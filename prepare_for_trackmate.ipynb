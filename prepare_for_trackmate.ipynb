{
 "cells": [
  {
   "cell_type": "code",
   "execution_count": 1,
   "metadata": {},
   "outputs": [],
   "source": [
    "from tifffile import imread\n",
    "from pathlib import Path"
   ]
  },
  {
   "cell_type": "code",
   "execution_count": 2,
   "metadata": {},
   "outputs": [
    {
     "data": {
      "text/plain": [
       "[WindowsPath('Y:/Eric/prediction_test/predictions/kdv1502R_5L_30ms_300gain002_pos5_ch1_frame000001_Nz54P.tif'),\n",
       " WindowsPath('Y:/Eric/prediction_test/predictions/kdv1502R_5L_30ms_300gain002_pos5_ch1_frame000002_Nz54P.tif'),\n",
       " WindowsPath('Y:/Eric/prediction_test/predictions/kdv1502R_5L_30ms_300gain002_pos5_ch1_frame000003_Nz54P.tif'),\n",
       " WindowsPath('Y:/Eric/prediction_test/predictions/kdv1502R_5L_30ms_300gain002_pos5_ch1_frame000004_Nz54P.tif'),\n",
       " WindowsPath('Y:/Eric/prediction_test/predictions/kdv1502R_5L_30ms_300gain002_pos5_ch1_frame000005_Nz54P.tif'),\n",
       " WindowsPath('Y:/Eric/prediction_test/predictions/kdv1502R_5L_30ms_300gain002_pos5_ch1_frame000006_Nz54P.tif'),\n",
       " WindowsPath('Y:/Eric/prediction_test/predictions/kdv1502R_5L_30ms_300gain002_pos5_ch1_frame000007_Nz54P.tif'),\n",
       " WindowsPath('Y:/Eric/prediction_test/predictions/kdv1502R_5L_30ms_300gain002_pos5_ch1_frame000008_Nz54P.tif'),\n",
       " WindowsPath('Y:/Eric/prediction_test/predictions/kdv1502R_5L_30ms_300gain002_pos5_ch1_frame000009_Nz54P.tif'),\n",
       " WindowsPath('Y:/Eric/prediction_test/predictions/kdv1502R_5L_30ms_300gain002_pos5_ch1_frame000010_Nz54P.tif'),\n",
       " WindowsPath('Y:/Eric/prediction_test/predictions/kdv1502R_5L_30ms_300gain002_pos5_ch1_frame000011_Nz54P.tif'),\n",
       " WindowsPath('Y:/Eric/prediction_test/predictions/kdv1502R_5L_30ms_300gain002_pos5_ch1_frame000012_Nz54P.tif'),\n",
       " WindowsPath('Y:/Eric/prediction_test/predictions/kdv1502R_5L_30ms_300gain002_pos5_ch1_frame000013_Nz54P.tif'),\n",
       " WindowsPath('Y:/Eric/prediction_test/predictions/kdv1502R_5L_30ms_300gain002_pos5_ch1_frame000014_Nz54P.tif'),\n",
       " WindowsPath('Y:/Eric/prediction_test/predictions/kdv1502R_5L_30ms_300gain002_pos5_ch1_frame000015_Nz54P.tif'),\n",
       " WindowsPath('Y:/Eric/prediction_test/predictions/kdv1502R_5L_30ms_300gain002_pos5_ch1_frame000016_Nz54P.tif'),\n",
       " WindowsPath('Y:/Eric/prediction_test/predictions/kdv1502R_5L_30ms_300gain002_pos5_ch1_frame000017_Nz54P.tif'),\n",
       " WindowsPath('Y:/Eric/prediction_test/predictions/kdv1502R_5L_30ms_300gain002_pos5_ch1_frame000018_Nz54P.tif'),\n",
       " WindowsPath('Y:/Eric/prediction_test/predictions/kdv1502R_5L_30ms_300gain002_pos5_ch1_frame000019_Nz54P.tif'),\n",
       " WindowsPath('Y:/Eric/prediction_test/predictions/kdv1502R_5L_30ms_300gain002_pos5_ch1_frame000020_Nz54P.tif'),\n",
       " WindowsPath('Y:/Eric/prediction_test/predictions/kdv1502R_5L_30ms_300gain002_pos5_ch1_frame000021_Nz54P.tif'),\n",
       " WindowsPath('Y:/Eric/prediction_test/predictions/kdv1502R_5L_30ms_300gain002_pos5_ch1_frame000022_Nz54P.tif'),\n",
       " WindowsPath('Y:/Eric/prediction_test/predictions/kdv1502R_5L_30ms_300gain002_pos5_ch1_frame000023_Nz54P.tif'),\n",
       " WindowsPath('Y:/Eric/prediction_test/predictions/kdv1502R_5L_30ms_300gain002_pos5_ch1_frame000024_Nz54P.tif'),\n",
       " WindowsPath('Y:/Eric/prediction_test/predictions/kdv1502R_5L_30ms_300gain002_pos5_ch1_frame000025_Nz54P.tif'),\n",
       " WindowsPath('Y:/Eric/prediction_test/predictions/kdv1502R_5L_30ms_300gain002_pos5_ch1_frame000026_Nz54P.tif'),\n",
       " WindowsPath('Y:/Eric/prediction_test/predictions/kdv1502R_5L_30ms_300gain002_pos5_ch1_frame000027_Nz54P.tif'),\n",
       " WindowsPath('Y:/Eric/prediction_test/predictions/kdv1502R_5L_30ms_300gain002_pos5_ch1_frame000028_Nz54P.tif'),\n",
       " WindowsPath('Y:/Eric/prediction_test/predictions/kdv1502R_5L_30ms_300gain002_pos5_ch1_frame000029_Nz54P.tif'),\n",
       " WindowsPath('Y:/Eric/prediction_test/predictions/kdv1502R_5L_30ms_300gain002_pos5_ch1_frame000030_Nz54P.tif'),\n",
       " WindowsPath('Y:/Eric/prediction_test/predictions/kdv1502R_5L_30ms_300gain002_pos5_ch1_frame000031_Nz54P.tif'),\n",
       " WindowsPath('Y:/Eric/prediction_test/predictions/kdv1502R_5L_30ms_300gain002_pos5_ch1_frame000032_Nz54P.tif'),\n",
       " WindowsPath('Y:/Eric/prediction_test/predictions/kdv1502R_5L_30ms_300gain002_pos5_ch1_frame000033_Nz54P.tif'),\n",
       " WindowsPath('Y:/Eric/prediction_test/predictions/kdv1502R_5L_30ms_300gain002_pos5_ch1_frame000034_Nz54P.tif'),\n",
       " WindowsPath('Y:/Eric/prediction_test/predictions/kdv1502R_5L_30ms_300gain002_pos5_ch1_frame000035_Nz54P.tif'),\n",
       " WindowsPath('Y:/Eric/prediction_test/predictions/kdv1502R_5L_30ms_300gain002_pos5_ch1_frame000036_Nz54P.tif'),\n",
       " WindowsPath('Y:/Eric/prediction_test/predictions/kdv1502R_5L_30ms_300gain002_pos5_ch1_frame000037_Nz54P.tif'),\n",
       " WindowsPath('Y:/Eric/prediction_test/predictions/kdv1502R_5L_30ms_300gain002_pos5_ch1_frame000038_Nz54P.tif'),\n",
       " WindowsPath('Y:/Eric/prediction_test/predictions/kdv1502R_5L_30ms_300gain002_pos5_ch1_frame000039_Nz54P.tif'),\n",
       " WindowsPath('Y:/Eric/prediction_test/predictions/kdv1502R_5L_30ms_300gain002_pos5_ch1_frame000040_Nz54P.tif'),\n",
       " WindowsPath('Y:/Eric/prediction_test/predictions/kdv1502R_5L_30ms_300gain002_pos5_ch1_frame000041_Nz54P.tif'),\n",
       " WindowsPath('Y:/Eric/prediction_test/predictions/kdv1502R_5L_30ms_300gain002_pos5_ch1_frame000042_Nz54P.tif'),\n",
       " WindowsPath('Y:/Eric/prediction_test/predictions/kdv1502R_5L_30ms_300gain002_pos5_ch1_frame000043_Nz54P.tif'),\n",
       " WindowsPath('Y:/Eric/prediction_test/predictions/kdv1502R_5L_30ms_300gain002_pos5_ch1_frame000044_Nz54P.tif'),\n",
       " WindowsPath('Y:/Eric/prediction_test/predictions/kdv1502R_5L_30ms_300gain002_pos5_ch1_frame000045_Nz54P.tif'),\n",
       " WindowsPath('Y:/Eric/prediction_test/predictions/kdv1502R_5L_30ms_300gain002_pos5_ch1_frame000046_Nz54P.tif'),\n",
       " WindowsPath('Y:/Eric/prediction_test/predictions/kdv1502R_5L_30ms_300gain002_pos5_ch1_frame000047_Nz54P.tif'),\n",
       " WindowsPath('Y:/Eric/prediction_test/predictions/kdv1502R_5L_30ms_300gain002_pos5_ch1_frame000048_Nz54P.tif'),\n",
       " WindowsPath('Y:/Eric/prediction_test/predictions/kdv1502R_5L_30ms_300gain002_pos5_ch1_frame000049_Nz54P.tif'),\n",
       " WindowsPath('Y:/Eric/prediction_test/predictions/kdv1502R_5L_30ms_300gain002_pos5_ch1_frame000050_Nz54P.tif'),\n",
       " WindowsPath('Y:/Eric/prediction_test/predictions/kdv1502R_5L_30ms_300gain002_pos5_ch1_frame000051_Nz54P.tif'),\n",
       " WindowsPath('Y:/Eric/prediction_test/predictions/kdv1502R_5L_30ms_300gain002_pos5_ch1_frame000052_Nz54P.tif'),\n",
       " WindowsPath('Y:/Eric/prediction_test/predictions/kdv1502R_5L_30ms_300gain002_pos5_ch1_frame000053_Nz54P.tif'),\n",
       " WindowsPath('Y:/Eric/prediction_test/predictions/kdv1502R_5L_30ms_300gain002_pos5_ch1_frame000054_Nz54P.tif'),\n",
       " WindowsPath('Y:/Eric/prediction_test/predictions/kdv1502R_5L_30ms_300gain002_pos5_ch1_frame000055_Nz54P.tif'),\n",
       " WindowsPath('Y:/Eric/prediction_test/predictions/kdv1502R_5L_30ms_300gain002_pos5_ch1_frame000056_Nz54P.tif'),\n",
       " WindowsPath('Y:/Eric/prediction_test/predictions/kdv1502R_5L_30ms_300gain002_pos5_ch1_frame000057_Nz54P.tif'),\n",
       " WindowsPath('Y:/Eric/prediction_test/predictions/kdv1502R_5L_30ms_300gain002_pos5_ch1_frame000058_Nz54P.tif'),\n",
       " WindowsPath('Y:/Eric/prediction_test/predictions/kdv1502R_5L_30ms_300gain002_pos5_ch1_frame000059_Nz54P.tif'),\n",
       " WindowsPath('Y:/Eric/prediction_test/predictions/kdv1502R_5L_30ms_300gain002_pos5_ch1_frame000060_Nz54P.tif'),\n",
       " WindowsPath('Y:/Eric/prediction_test/predictions/kdv1502R_5L_30ms_300gain002_pos5_ch1_frame000061_Nz54P.tif'),\n",
       " WindowsPath('Y:/Eric/prediction_test/predictions/kdv1502R_5L_30ms_300gain002_pos5_ch1_frame000062_Nz54P.tif'),\n",
       " WindowsPath('Y:/Eric/prediction_test/predictions/kdv1502R_5L_30ms_300gain002_pos5_ch1_frame000063_Nz54P.tif'),\n",
       " WindowsPath('Y:/Eric/prediction_test/predictions/kdv1502R_5L_30ms_300gain002_pos5_ch1_frame000064_Nz54P.tif'),\n",
       " WindowsPath('Y:/Eric/prediction_test/predictions/kdv1502R_5L_30ms_300gain002_pos5_ch1_frame000065_Nz54P.tif'),\n",
       " WindowsPath('Y:/Eric/prediction_test/predictions/kdv1502R_5L_30ms_300gain002_pos5_ch1_frame000066_Nz54P.tif'),\n",
       " WindowsPath('Y:/Eric/prediction_test/predictions/kdv1502R_5L_30ms_300gain002_pos5_ch1_frame000067_Nz54P.tif'),\n",
       " WindowsPath('Y:/Eric/prediction_test/predictions/kdv1502R_5L_30ms_300gain002_pos5_ch1_frame000068_Nz54P.tif'),\n",
       " WindowsPath('Y:/Eric/prediction_test/predictions/kdv1502R_5L_30ms_300gain002_pos5_ch1_frame000069_Nz54P.tif'),\n",
       " WindowsPath('Y:/Eric/prediction_test/predictions/kdv1502R_5L_30ms_300gain002_pos5_ch1_frame000070_Nz54P.tif'),\n",
       " WindowsPath('Y:/Eric/prediction_test/predictions/kdv1502R_5L_30ms_300gain002_pos5_ch1_frame000071_Nz54P.tif'),\n",
       " WindowsPath('Y:/Eric/prediction_test/predictions/kdv1502R_5L_30ms_300gain002_pos5_ch1_frame000072_Nz54P.tif'),\n",
       " WindowsPath('Y:/Eric/prediction_test/predictions/kdv1502R_5L_30ms_300gain002_pos5_ch1_frame000073_Nz54P.tif'),\n",
       " WindowsPath('Y:/Eric/prediction_test/predictions/kdv1502R_5L_30ms_300gain002_pos5_ch1_frame000074_Nz54P.tif'),\n",
       " WindowsPath('Y:/Eric/prediction_test/predictions/kdv1502R_5L_30ms_300gain002_pos5_ch1_frame000075_Nz54P.tif'),\n",
       " WindowsPath('Y:/Eric/prediction_test/predictions/kdv1502R_5L_30ms_300gain002_pos5_ch1_frame000076_Nz54P.tif'),\n",
       " WindowsPath('Y:/Eric/prediction_test/predictions/kdv1502R_5L_30ms_300gain002_pos5_ch1_frame000077_Nz54P.tif'),\n",
       " WindowsPath('Y:/Eric/prediction_test/predictions/kdv1502R_5L_30ms_300gain002_pos5_ch1_frame000078_Nz54P.tif'),\n",
       " WindowsPath('Y:/Eric/prediction_test/predictions/kdv1502R_5L_30ms_300gain002_pos5_ch1_frame000079_Nz54P.tif'),\n",
       " WindowsPath('Y:/Eric/prediction_test/predictions/kdv1502R_5L_30ms_300gain002_pos5_ch1_frame000080_Nz54P.tif'),\n",
       " WindowsPath('Y:/Eric/prediction_test/predictions/kdv1502R_5L_30ms_300gain002_pos5_ch1_frame000081_Nz54P.tif'),\n",
       " WindowsPath('Y:/Eric/prediction_test/predictions/kdv1502R_5L_30ms_300gain002_pos5_ch1_frame000082_Nz54P.tif'),\n",
       " WindowsPath('Y:/Eric/prediction_test/predictions/kdv1502R_5L_30ms_300gain002_pos5_ch1_frame000083_Nz54P.tif'),\n",
       " WindowsPath('Y:/Eric/prediction_test/predictions/kdv1502R_5L_30ms_300gain002_pos5_ch1_frame000084_Nz54P.tif'),\n",
       " WindowsPath('Y:/Eric/prediction_test/predictions/kdv1502R_5L_30ms_300gain002_pos5_ch1_frame000085_Nz54P.tif'),\n",
       " WindowsPath('Y:/Eric/prediction_test/predictions/kdv1502R_5L_30ms_300gain002_pos5_ch1_frame000086_Nz54P.tif'),\n",
       " WindowsPath('Y:/Eric/prediction_test/predictions/kdv1502R_5L_30ms_300gain002_pos5_ch1_frame000087_Nz54P.tif'),\n",
       " WindowsPath('Y:/Eric/prediction_test/predictions/kdv1502R_5L_30ms_300gain002_pos5_ch1_frame000088_Nz54P.tif'),\n",
       " WindowsPath('Y:/Eric/prediction_test/predictions/kdv1502R_5L_30ms_300gain002_pos5_ch1_frame000089_Nz54P.tif'),\n",
       " WindowsPath('Y:/Eric/prediction_test/predictions/kdv1502R_5L_30ms_300gain002_pos5_ch1_frame000090_Nz54P.tif'),\n",
       " WindowsPath('Y:/Eric/prediction_test/predictions/kdv1502R_5L_30ms_300gain002_pos5_ch1_frame000091_Nz54P.tif'),\n",
       " WindowsPath('Y:/Eric/prediction_test/predictions/kdv1502R_5L_30ms_300gain002_pos5_ch1_frame000092_Nz54P.tif'),\n",
       " WindowsPath('Y:/Eric/prediction_test/predictions/kdv1502R_5L_30ms_300gain002_pos5_ch1_frame000093_Nz54P.tif'),\n",
       " WindowsPath('Y:/Eric/prediction_test/predictions/kdv1502R_5L_30ms_300gain002_pos5_ch1_frame000094_Nz54P.tif'),\n",
       " WindowsPath('Y:/Eric/prediction_test/predictions/kdv1502R_5L_30ms_300gain002_pos5_ch1_frame000095_Nz54P.tif'),\n",
       " WindowsPath('Y:/Eric/prediction_test/predictions/kdv1502R_5L_30ms_300gain002_pos5_ch1_frame000096_Nz54P.tif'),\n",
       " WindowsPath('Y:/Eric/prediction_test/predictions/kdv1502R_5L_30ms_300gain002_pos5_ch1_frame000097_Nz54P.tif'),\n",
       " WindowsPath('Y:/Eric/prediction_test/predictions/kdv1502R_5L_30ms_300gain002_pos5_ch1_frame000098_Nz54P.tif'),\n",
       " WindowsPath('Y:/Eric/prediction_test/predictions/kdv1502R_5L_30ms_300gain002_pos5_ch1_frame000099_Nz54P.tif')]"
      ]
     },
     "execution_count": 2,
     "metadata": {},
     "output_type": "execute_result"
    }
   ],
   "source": [
    "img_files = sorted(Path(r'Y:\\Eric\\prediction_test\\predictions').glob('*.tif'))\n",
    "img_files"
   ]
  },
  {
   "cell_type": "code",
   "execution_count": 3,
   "metadata": {},
   "outputs": [],
   "source": [
    "from tifffile import imsave\n",
    "import os\n",
    "from skimage.measure import regionprops\n",
    "import numpy as np\n",
    "\n",
    "for i, file_name in enumerate(img_files):\n",
    "    im = imread(str(file_name))\n",
    "    props = regionprops(im)\n",
    "\n",
    "    \n",
    "    Tracking_stack = np.zeros((np.asarray(im.shape) / 2).astype(np.int16))\n",
    "    \n",
    "    centroids = np.asarray([p.centroid for p in props])\n",
    "    centroids = centroids / 2\n",
    "    \n",
    "    \n",
    "    centroids = np.rint(centroids)\n",
    "    centroids = centroids.astype(np.int16)\n",
    "    \n",
    "    np.save(f'centroids{i:04d}', centroids)\n",
    "    \n",
    "    #for z, y, x in centroids:\n",
    "    #    Tracking_stack[z, y, x] = 1\n",
    "\n",
    "    #imsave(os.path.join(f'track{i:04d}.tif'), Tracking_stack)"
   ]
  },
  {
   "cell_type": "code",
   "execution_count": 9,
   "metadata": {},
   "outputs": [
    {
     "data": {
      "text/plain": [
       "(108, 512, 512)"
      ]
     },
     "execution_count": 9,
     "metadata": {},
     "output_type": "execute_result"
    }
   ],
   "source": [
    "Tracking_stack.shape"
   ]
  },
  {
   "cell_type": "code",
   "execution_count": 5,
   "metadata": {},
   "outputs": [],
   "source": [
    "centroid_files = sorted(Path('Y:\\Eric\\prediction_test').glob('*.npy'))"
   ]
  },
  {
   "cell_type": "code",
   "execution_count": 6,
   "metadata": {},
   "outputs": [
    {
     "data": {
      "text/plain": [
       "[WindowsPath('Y:/Eric/prediction_test/centroids0000.npy'),\n",
       " WindowsPath('Y:/Eric/prediction_test/centroids0001.npy'),\n",
       " WindowsPath('Y:/Eric/prediction_test/centroids0002.npy'),\n",
       " WindowsPath('Y:/Eric/prediction_test/centroids0003.npy'),\n",
       " WindowsPath('Y:/Eric/prediction_test/centroids0004.npy'),\n",
       " WindowsPath('Y:/Eric/prediction_test/centroids0005.npy'),\n",
       " WindowsPath('Y:/Eric/prediction_test/centroids0006.npy'),\n",
       " WindowsPath('Y:/Eric/prediction_test/centroids0007.npy'),\n",
       " WindowsPath('Y:/Eric/prediction_test/centroids0008.npy'),\n",
       " WindowsPath('Y:/Eric/prediction_test/centroids0009.npy'),\n",
       " WindowsPath('Y:/Eric/prediction_test/centroids0010.npy'),\n",
       " WindowsPath('Y:/Eric/prediction_test/centroids0011.npy'),\n",
       " WindowsPath('Y:/Eric/prediction_test/centroids0012.npy'),\n",
       " WindowsPath('Y:/Eric/prediction_test/centroids0013.npy'),\n",
       " WindowsPath('Y:/Eric/prediction_test/centroids0014.npy'),\n",
       " WindowsPath('Y:/Eric/prediction_test/centroids0015.npy'),\n",
       " WindowsPath('Y:/Eric/prediction_test/centroids0016.npy'),\n",
       " WindowsPath('Y:/Eric/prediction_test/centroids0017.npy'),\n",
       " WindowsPath('Y:/Eric/prediction_test/centroids0018.npy'),\n",
       " WindowsPath('Y:/Eric/prediction_test/centroids0019.npy'),\n",
       " WindowsPath('Y:/Eric/prediction_test/centroids0020.npy'),\n",
       " WindowsPath('Y:/Eric/prediction_test/centroids0021.npy'),\n",
       " WindowsPath('Y:/Eric/prediction_test/centroids0022.npy'),\n",
       " WindowsPath('Y:/Eric/prediction_test/centroids0023.npy'),\n",
       " WindowsPath('Y:/Eric/prediction_test/centroids0024.npy'),\n",
       " WindowsPath('Y:/Eric/prediction_test/centroids0025.npy'),\n",
       " WindowsPath('Y:/Eric/prediction_test/centroids0026.npy'),\n",
       " WindowsPath('Y:/Eric/prediction_test/centroids0027.npy'),\n",
       " WindowsPath('Y:/Eric/prediction_test/centroids0028.npy'),\n",
       " WindowsPath('Y:/Eric/prediction_test/centroids0029.npy'),\n",
       " WindowsPath('Y:/Eric/prediction_test/centroids0030.npy'),\n",
       " WindowsPath('Y:/Eric/prediction_test/centroids0031.npy'),\n",
       " WindowsPath('Y:/Eric/prediction_test/centroids0032.npy'),\n",
       " WindowsPath('Y:/Eric/prediction_test/centroids0033.npy'),\n",
       " WindowsPath('Y:/Eric/prediction_test/centroids0034.npy'),\n",
       " WindowsPath('Y:/Eric/prediction_test/centroids0035.npy'),\n",
       " WindowsPath('Y:/Eric/prediction_test/centroids0036.npy'),\n",
       " WindowsPath('Y:/Eric/prediction_test/centroids0037.npy'),\n",
       " WindowsPath('Y:/Eric/prediction_test/centroids0038.npy'),\n",
       " WindowsPath('Y:/Eric/prediction_test/centroids0039.npy'),\n",
       " WindowsPath('Y:/Eric/prediction_test/centroids0040.npy'),\n",
       " WindowsPath('Y:/Eric/prediction_test/centroids0041.npy'),\n",
       " WindowsPath('Y:/Eric/prediction_test/centroids0042.npy'),\n",
       " WindowsPath('Y:/Eric/prediction_test/centroids0043.npy'),\n",
       " WindowsPath('Y:/Eric/prediction_test/centroids0044.npy'),\n",
       " WindowsPath('Y:/Eric/prediction_test/centroids0045.npy'),\n",
       " WindowsPath('Y:/Eric/prediction_test/centroids0046.npy'),\n",
       " WindowsPath('Y:/Eric/prediction_test/centroids0047.npy'),\n",
       " WindowsPath('Y:/Eric/prediction_test/centroids0048.npy'),\n",
       " WindowsPath('Y:/Eric/prediction_test/centroids0049.npy'),\n",
       " WindowsPath('Y:/Eric/prediction_test/centroids0050.npy'),\n",
       " WindowsPath('Y:/Eric/prediction_test/centroids0051.npy'),\n",
       " WindowsPath('Y:/Eric/prediction_test/centroids0052.npy'),\n",
       " WindowsPath('Y:/Eric/prediction_test/centroids0053.npy'),\n",
       " WindowsPath('Y:/Eric/prediction_test/centroids0054.npy'),\n",
       " WindowsPath('Y:/Eric/prediction_test/centroids0055.npy'),\n",
       " WindowsPath('Y:/Eric/prediction_test/centroids0056.npy'),\n",
       " WindowsPath('Y:/Eric/prediction_test/centroids0057.npy'),\n",
       " WindowsPath('Y:/Eric/prediction_test/centroids0058.npy'),\n",
       " WindowsPath('Y:/Eric/prediction_test/centroids0059.npy'),\n",
       " WindowsPath('Y:/Eric/prediction_test/centroids0060.npy'),\n",
       " WindowsPath('Y:/Eric/prediction_test/centroids0061.npy'),\n",
       " WindowsPath('Y:/Eric/prediction_test/centroids0062.npy'),\n",
       " WindowsPath('Y:/Eric/prediction_test/centroids0063.npy'),\n",
       " WindowsPath('Y:/Eric/prediction_test/centroids0064.npy'),\n",
       " WindowsPath('Y:/Eric/prediction_test/centroids0065.npy'),\n",
       " WindowsPath('Y:/Eric/prediction_test/centroids0066.npy'),\n",
       " WindowsPath('Y:/Eric/prediction_test/centroids0067.npy'),\n",
       " WindowsPath('Y:/Eric/prediction_test/centroids0068.npy'),\n",
       " WindowsPath('Y:/Eric/prediction_test/centroids0069.npy'),\n",
       " WindowsPath('Y:/Eric/prediction_test/centroids0070.npy'),\n",
       " WindowsPath('Y:/Eric/prediction_test/centroids0071.npy'),\n",
       " WindowsPath('Y:/Eric/prediction_test/centroids0072.npy'),\n",
       " WindowsPath('Y:/Eric/prediction_test/centroids0073.npy'),\n",
       " WindowsPath('Y:/Eric/prediction_test/centroids0074.npy'),\n",
       " WindowsPath('Y:/Eric/prediction_test/centroids0075.npy'),\n",
       " WindowsPath('Y:/Eric/prediction_test/centroids0076.npy'),\n",
       " WindowsPath('Y:/Eric/prediction_test/centroids0077.npy'),\n",
       " WindowsPath('Y:/Eric/prediction_test/centroids0078.npy'),\n",
       " WindowsPath('Y:/Eric/prediction_test/centroids0079.npy'),\n",
       " WindowsPath('Y:/Eric/prediction_test/centroids0080.npy'),\n",
       " WindowsPath('Y:/Eric/prediction_test/centroids0081.npy'),\n",
       " WindowsPath('Y:/Eric/prediction_test/centroids0082.npy'),\n",
       " WindowsPath('Y:/Eric/prediction_test/centroids0083.npy'),\n",
       " WindowsPath('Y:/Eric/prediction_test/centroids0084.npy'),\n",
       " WindowsPath('Y:/Eric/prediction_test/centroids0085.npy'),\n",
       " WindowsPath('Y:/Eric/prediction_test/centroids0086.npy'),\n",
       " WindowsPath('Y:/Eric/prediction_test/centroids0087.npy'),\n",
       " WindowsPath('Y:/Eric/prediction_test/centroids0088.npy'),\n",
       " WindowsPath('Y:/Eric/prediction_test/centroids0089.npy'),\n",
       " WindowsPath('Y:/Eric/prediction_test/centroids0090.npy'),\n",
       " WindowsPath('Y:/Eric/prediction_test/centroids0091.npy'),\n",
       " WindowsPath('Y:/Eric/prediction_test/centroids0092.npy'),\n",
       " WindowsPath('Y:/Eric/prediction_test/centroids0093.npy'),\n",
       " WindowsPath('Y:/Eric/prediction_test/centroids0094.npy'),\n",
       " WindowsPath('Y:/Eric/prediction_test/centroids0095.npy'),\n",
       " WindowsPath('Y:/Eric/prediction_test/centroids0096.npy'),\n",
       " WindowsPath('Y:/Eric/prediction_test/centroids0097.npy'),\n",
       " WindowsPath('Y:/Eric/prediction_test/centroids0098.npy')]"
      ]
     },
     "execution_count": 6,
     "metadata": {},
     "output_type": "execute_result"
    }
   ],
   "source": [
    "centroid_files"
   ]
  },
  {
   "cell_type": "code",
   "execution_count": 10,
   "metadata": {},
   "outputs": [],
   "source": [
    "shape = Tracking_stack.shape"
   ]
  },
  {
   "cell_type": "code",
   "execution_count": 13,
   "metadata": {},
   "outputs": [],
   "source": [
    "for i, p in enumerate(centroid_files):\n",
    "    centroid = np.load(str(p))\n",
    "    \n",
    "    Tracking_stack = np.zeros(shape, dtype=np.uint8)\n",
    "    \n",
    "    for z, y, x in centroid:\n",
    "        Tracking_stack[z, y, x] = 255\n",
    "\n",
    "    imsave(os.path.join('T:', f'track{i:04d}.tif'), Tracking_stack)"
   ]
  },
  {
   "cell_type": "code",
   "execution_count": 25,
   "metadata": {},
   "outputs": [],
   "source": [
    "Tracking_stack = np.zeros((shape[0]*len(centroid_files), *shape[1:]), dtype=np.int8)\n",
    "\n",
    "for i, p in enumerate(centroid_files):\n",
    "    centroid = np.load(str(p))\n",
    " \n",
    "    for z, y, x in centroid:\n",
    "        Tracking_stack[z+shape[0]*i, y, x] = 255\n",
    "\n",
    "imsave(os.path.join('T:', f'tracks_all.tif'), Tracking_stack)"
   ]
  },
  {
   "cell_type": "code",
   "execution_count": 18,
   "metadata": {},
   "outputs": [
    {
     "data": {
      "text/plain": [
       "99"
      ]
     },
     "execution_count": 18,
     "metadata": {},
     "output_type": "execute_result"
    }
   ],
   "source": [
    "len(centroid_files)"
   ]
  },
  {
   "cell_type": "code",
   "execution_count": 22,
   "metadata": {},
   "outputs": [],
   "source": [
    "Tracking_stack_ = np.reshape(Tracking_stack, (99, 108, 512, 512))"
   ]
  },
  {
   "cell_type": "code",
   "execution_count": 24,
   "metadata": {},
   "outputs": [
    {
     "data": {
      "text/plain": [
       "(array([ 0,  0,  0, ..., 98, 98, 98], dtype=int64),\n",
       " array([10, 10, 10, ..., 26, 29, 37], dtype=int64),\n",
       " array([237, 248, 262, ..., 234, 374, 268], dtype=int64),\n",
       " array([242, 266, 275, ..., 230, 222, 301], dtype=int64))"
      ]
     },
     "execution_count": 24,
     "metadata": {},
     "output_type": "execute_result"
    }
   ],
   "source": [
    "np.where(Tracking_stack_)"
   ]
  },
  {
   "cell_type": "code",
   "execution_count": 14,
   "metadata": {},
   "outputs": [],
   "source": [
    "im = imread(r\"T:\\tracks\\track0091.tif\")"
   ]
  },
  {
   "cell_type": "code",
   "execution_count": 15,
   "metadata": {},
   "outputs": [
    {
     "data": {
      "text/plain": [
       "array([0, 1], dtype=uint8)"
      ]
     },
     "execution_count": 15,
     "metadata": {},
     "output_type": "execute_result"
    }
   ],
   "source": [
    "np.unique(im)"
   ]
  },
  {
   "cell_type": "code",
   "execution_count": 51,
   "metadata": {},
   "outputs": [],
   "source": [
    "from tifffile import imsave\n",
    "\n",
    "Tracking_stack = np.zeros((*im.shape[1:], len(img_files)), dtype=np.uint8)\n",
    "\n",
    "for i, file_name in enumerate(img_files):\n",
    "    im = imread(str(file_name))\n",
    "    props = regionprops(im)\n",
    "    centroids = np.asarray([p.centroid for p in props])\n",
    "    centroids = np.rint(centroids[:, 1:])\n",
    "    centroids = centroids.astype(np.int16)\n",
    "      \n",
    "    \n",
    "    for y, x in centroids:\n",
    "        Tracking_stack[y, x, i] = 1\n",
    "\n",
    "imsave(f'track_2d.tif', Tracking_stack)"
   ]
  },
  {
   "cell_type": "code",
   "execution_count": 53,
   "metadata": {},
   "outputs": [],
   "source": [
    "tracking_stack = np.swapaxes(Tracking_stack, -1, 0)"
   ]
  },
  {
   "cell_type": "code",
   "execution_count": 55,
   "metadata": {},
   "outputs": [],
   "source": [
    "imsave(f'track_2d.tif', tracking_stack)"
   ]
  }
 ],
 "metadata": {
  "accelerator": "GPU",
  "colab": {
   "collapsed_sections": [],
   "name": "StarDist_3D_ZeroCostDL4Mic.ipynb",
   "provenance": [
    {
     "file_id": "15zLlQlrxpv-lw8NrQhqnviWNxa1yqYAx",
     "timestamp": 1603114400753
    },
    {
     "file_id": "1Ur-4VIQ6gf4ONupD6hK0M-AcJkoTzMlU",
     "timestamp": 1586789439593
    },
    {
     "file_id": "1PKVyox_mx2rEE3VlMFQtdnVULJFhYPaD",
     "timestamp": 1583443864213
    },
    {
     "file_id": "1XSclOkhhHmn-9LQc9k8c3Y6seT1LEi-Y",
     "timestamp": 1583264105465
    },
    {
     "file_id": "1VPZYk3MeSVyZVVEmesz10VtujbD4diJk",
     "timestamp": 1579481583477
    },
    {
     "file_id": "1ENdOZir1Gytf6JxzyfbjgfxO3_C1dLHK",
     "timestamp": 1575415287126
    },
    {
     "file_id": "1G8b4dF2kCs3ePBGZthPUGOyjJpZ2G_Dm",
     "timestamp": 1575379725785
    },
    {
     "file_id": "1P0tT0RR_b3SFKvOcON_MzcAIcxRUQK5B",
     "timestamp": 1575377313115
    },
    {
     "file_id": "1hQz8PyJzBRkBZc9NwxM9mU9azRSvghBk",
     "timestamp": 1574783624098
    },
    {
     "file_id": "14mWTNjHgIbuuWAxb-0lhmhdIvMoZgrI0",
     "timestamp": 1574099686195
    },
    {
     "file_id": "1IWvFuBb0gqaJcUXhhfbcTWNh9cZEXW4S",
     "timestamp": 1573647131082
    },
    {
     "file_id": "1hFulBwI57YU6GoVc8sBt5KNIkCS7ynQ3",
     "timestamp": 1573579952409
    },
    {
     "file_id": "1Ba_Bu-PXN_2Mq5W6YHMgUYsJEfgbPtS-",
     "timestamp": 1573035984524
    },
    {
     "file_id": "1ePC44Qq_C2hSFGPM3PKyb0J6UBXSPddp",
     "timestamp": 1573032545399
    },
    {
     "file_id": "https://github.com/mpicbg-csbd/stardist/blob/master/examples/2D/2_training.ipynb",
     "timestamp": 1572984225873
    }
   ],
   "toc_visible": true
  },
  "kernelspec": {
   "display_name": "Python 3",
   "language": "python",
   "name": "python3"
  },
  "language_info": {
   "codemirror_mode": {
    "name": "ipython",
    "version": 3
   },
   "file_extension": ".py",
   "mimetype": "text/x-python",
   "name": "python",
   "nbconvert_exporter": "python",
   "pygments_lexer": "ipython3",
   "version": "3.8.6"
  }
 },
 "nbformat": 4,
 "nbformat_minor": 1
}
