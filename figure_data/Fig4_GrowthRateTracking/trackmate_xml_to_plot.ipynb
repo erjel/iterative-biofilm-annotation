{
 "cells": [
  {
   "cell_type": "code",
   "execution_count": null,
   "id": "honey-sacrifice",
   "metadata": {},
   "outputs": [],
   "source": [
    "import numpy as np"
   ]
  },
  {
   "cell_type": "code",
   "execution_count": null,
   "id": "material-genealogy",
   "metadata": {},
   "outputs": [],
   "source": [
    "filename = r\"Y:\\Eric\\prediction_test\\data\\interim\\trackmate_tests\\care_model_eva-v1-dz400-care_rep1_test.xml\""
   ]
  },
  {
   "cell_type": "code",
   "execution_count": null,
   "id": "chemical-tracker",
   "metadata": {},
   "outputs": [],
   "source": [
    "with open(filename, 'r') as f:\n",
    "    data = f.read()"
   ]
  },
  {
   "cell_type": "code",
   "execution_count": null,
   "id": "tested-pacific",
   "metadata": {},
   "outputs": [],
   "source": [
    "import xml.etree.ElementTree as ET\n",
    "tree = ET.parse(filename)\n",
    "root = tree.getroot()"
   ]
  },
  {
   "cell_type": "code",
   "execution_count": null,
   "id": "obvious-theology",
   "metadata": {},
   "outputs": [],
   "source": [
    "for r in root:\n",
    "    print(r)"
   ]
  },
  {
   "cell_type": "code",
   "execution_count": null,
   "id": "relative-spectacular",
   "metadata": {},
   "outputs": [],
   "source": [
    "Model = root[1]"
   ]
  },
  {
   "cell_type": "code",
   "execution_count": null,
   "id": "pointed-encounter",
   "metadata": {},
   "outputs": [],
   "source": [
    "spots = Model[1]\n",
    "print(spots)\n",
    "tracks = Model[2]\n",
    "print(tracks)"
   ]
  },
  {
   "cell_type": "code",
   "execution_count": null,
   "id": "religious-stretch",
   "metadata": {},
   "outputs": [],
   "source": [
    "def getSpotCoord(root, spot_id):\n",
    "    spot = root.findall(f\"./Model/AllSpots/SpotsInFrame/*/[@ID='{spot_id}']\")\n",
    "    assert(len(spot) == 1)\n",
    "    spot_properties = spot[0].attrib\n",
    "    \n",
    "    x, y, z = tuple(spot_properties[k] for k in ['POSITION_X', 'POSITION_Y', 'POSITION_Z'])\n",
    "    return (x, y, z)"
   ]
  },
  {
   "cell_type": "code",
   "execution_count": null,
   "id": "casual-guitar",
   "metadata": {},
   "outputs": [],
   "source": [
    "all_spots = root.findall(f\"./Model/AllSpots/SpotsInFrame/*\")\n",
    "#print(all_spots)\n",
    "#for spot in "
   ]
  },
  {
   "cell_type": "code",
   "execution_count": null,
   "id": "impossible-survey",
   "metadata": {},
   "outputs": [],
   "source": [
    "# Works but is too slow:\n",
    "\n",
    "\"\"\"\n",
    "tracks = []\n",
    "for track in tqdm(root.findall(f\"./Model/AllTracks/*\")):\n",
    "    X = []\n",
    "    Y = []\n",
    "    Z = []\n",
    "    for edge in track.findall('./*'):\n",
    "        edge_properties = edge.attrib\n",
    "        spot_source_id = edge_properties['SPOT_SOURCE_ID']\n",
    "        #print(spot_source_id)\n",
    "        x_start, y_start, z_start = getSpotCoord(root, spot_source_id)\n",
    "        X.append(float(x_start))\n",
    "        Y.append(float(y_start))\n",
    "        Z.append(float(z_start))\n",
    "        \n",
    "    spot_target_id = edge_properties['SPOT_TARGET_ID']\n",
    "    x_end, y_end, z_end =  getSpotCoord(root, spot_target_id)\n",
    "    X.append(float(x_end))\n",
    "    Y.append(float(y_end))\n",
    "    Z.append(float(z_end))\n",
    "    tracks.append([X, Y, Z])\n",
    "\"\"\""
   ]
  },
  {
   "cell_type": "code",
   "execution_count": null,
   "id": "heated-messenger",
   "metadata": {},
   "outputs": [],
   "source": [
    "import pandas as pd\n",
    "from tqdm import tqdm\n",
    "\n",
    "IDs = []\n",
    "POSITION_Xs = []\n",
    "POSITION_Ys = []\n",
    "POSITION_Zs = []\n",
    "\n",
    "for spot in tqdm(all_spots):\n",
    "    spot_properties = spot.attrib\n",
    "    \n",
    "    IDs.append(int(spot_properties['ID']))\n",
    "    POSITION_Xs.append(float(spot_properties['POSITION_X']))\n",
    "    POSITION_Ys.append(float(spot_properties['POSITION_Y']))\n",
    "    POSITION_Zs.append(float(spot_properties['POSITION_Z']))\n",
    "\n",
    "\n",
    "df = pd.DataFrame({'ID': IDs, 'POSITION_X':POSITION_Xs, 'POSITION_Y':POSITION_Ys, 'POSITION_Z':POSITION_Zs})"
   ]
  },
  {
   "cell_type": "code",
   "execution_count": null,
   "id": "exterior-ontario",
   "metadata": {},
   "outputs": [],
   "source": [
    "df"
   ]
  },
  {
   "cell_type": "code",
   "execution_count": null,
   "id": "compact-remark",
   "metadata": {},
   "outputs": [],
   "source": [
    "spot_start_IDs = []\n",
    "spot_target_IDs = []\n",
    "edge_times = []\n",
    "track_IDs = []\n",
    "\n",
    "for track in tqdm(root.findall(f\"./Model/AllTracks/*\")):\n",
    "    track_id = (track.attrib['TRACK_ID'])\n",
    "    for edge in track.findall('./*'):\n",
    "        edge_properties = edge.attrib\n",
    "        spot_source_id = edge_properties['SPOT_SOURCE_ID']\n",
    "        time = edge_properties['EDGE_TIME']\n",
    "        spot_target_id = edge_properties['SPOT_TARGET_ID']\n",
    "        spot_start_IDs.append(int(spot_source_id))\n",
    "        spot_target_IDs.append(int(spot_target_id))\n",
    "        edge_times.append(float(time))\n",
    "        track_IDs.append(int(track_id))\n",
    "        \n",
    "df_edges = pd.DataFrame({'TRACK_ID': track_IDs, 'SPOT_SOURCE_ID': spot_start_IDs, 'SPOT_TARGET_ID':spot_target_IDs,\n",
    "                         'EDGE_TIME':edge_times})\n",
    "\n",
    "df_edges"
   ]
  },
  {
   "cell_type": "markdown",
   "id": "indonesian-presentation",
   "metadata": {},
   "source": [
    "## Now build the tracks"
   ]
  },
  {
   "cell_type": "code",
   "execution_count": null,
   "id": "rental-third",
   "metadata": {},
   "outputs": [],
   "source": []
  },
  {
   "cell_type": "code",
   "execution_count": null,
   "id": "contained-toner",
   "metadata": {},
   "outputs": [],
   "source": [
    "df_edges = df_edges.merge(df, left_on='SPOT_SOURCE_ID', right_on='ID')\n",
    "df_edges = df_edges.merge(df, left_on='SPOT_TARGET_ID', right_on='ID')"
   ]
  },
  {
   "cell_type": "code",
   "execution_count": null,
   "id": "mighty-melissa",
   "metadata": {},
   "outputs": [],
   "source": [
    "df_edges"
   ]
  },
  {
   "cell_type": "code",
   "execution_count": null,
   "id": "fantastic-borough",
   "metadata": {},
   "outputs": [],
   "source": [
    "df_edges['Distance'] = np.sqrt(\n",
    "    (df_edges['POSITION_X_x']*0.061 -  df_edges['POSITION_X_y']*0.061 )**2 +\n",
    "     (df_edges['POSITION_Y_x']*0.061 -  df_edges['POSITION_Y_y']*0.061 )**2 +\n",
    "     (df_edges['POSITION_Z_x']*0.1 -  df_edges['POSITION_Z_y']*0.1 )**2\n",
    ")"
   ]
  },
  {
   "cell_type": "code",
   "execution_count": null,
   "id": "swiss-frederick",
   "metadata": {},
   "outputs": [],
   "source": [
    "%matplotlib inline\n",
    "df_edges['Distance'].plot.hist(bins=100, alpha=0.5)"
   ]
  },
  {
   "cell_type": "code",
   "execution_count": null,
   "id": "reverse-conclusion",
   "metadata": {},
   "outputs": [],
   "source": [
    "df_edges['Distance'].describe()"
   ]
  },
  {
   "cell_type": "code",
   "execution_count": null,
   "id": "moved-intellectual",
   "metadata": {},
   "outputs": [],
   "source": [
    "track = df_edges[df_edges.TRACK_ID==0].sort_values(by='EDGE_TIME')\n",
    "track"
   ]
  },
  {
   "cell_type": "code",
   "execution_count": null,
   "id": "continuous-upper",
   "metadata": {},
   "outputs": [],
   "source": [
    "%matplotlib notebook\n",
    "import matplotlib as mpl\n",
    "from mpl_toolkits.mplot3d import Axes3D\n",
    "import numpy as np\n",
    "import matplotlib.pyplot as plt\n",
    "\n",
    "mpl.rcParams['legend.fontsize'] = 10\n",
    "\n",
    "fig = plt.figure()\n",
    "ax = fig.gca()\n",
    "ax = fig.gca(projection='3d')\n",
    "for track_id in df_edges.TRACK_ID.unique()[:10]:\n",
    "    track = df_edges[df_edges.TRACK_ID==track_id].sort_values(by='EDGE_TIME')\n",
    "    ax.plot(track.POSITION_X_x, track.POSITION_Y_x, track.POSITION_Z_x, label='parametric curve')\n",
    "\n",
    "ax.set_xlabel('x')\n",
    "ax.set_ylabel('y')\n",
    "ax.set_zlabel('z')\n",
    "\n",
    "\"\"\"\n",
    "ax.set_xlim(200, 700)\n",
    "ax.set_ylim(300, 800)\n",
    "ax.set_zlim(0, 100)\n",
    "\"\"\""
   ]
  },
  {
   "cell_type": "markdown",
   "id": "super-dealer",
   "metadata": {},
   "source": [
    "## Analyze spot statistics"
   ]
  },
  {
   "cell_type": "code",
   "execution_count": null,
   "id": "neither-temperature",
   "metadata": {},
   "outputs": [],
   "source": [
    "import numpy as np"
   ]
  },
  {
   "cell_type": "code",
   "execution_count": null,
   "id": "restricted-butler",
   "metadata": {},
   "outputs": [],
   "source": [
    "df = pd.read_csv(r\"Y:\\Eric\\prediction_test\\data\\interim\\trackmate_tests\\All Spots statistics.csv\")"
   ]
  },
  {
   "cell_type": "code",
   "execution_count": null,
   "id": "social-still",
   "metadata": {},
   "outputs": [],
   "source": [
    "np.sum(df.TRACK_ID == 'None'), len(df)"
   ]
  },
  {
   "cell_type": "code",
   "execution_count": null,
   "id": "sunrise-continuity",
   "metadata": {},
   "outputs": [],
   "source": []
  },
  {
   "cell_type": "markdown",
   "id": "stretch-graduate",
   "metadata": {},
   "source": [
    "## Question: How to relate this with the vtk file?"
   ]
  },
  {
   "cell_type": "code",
   "execution_count": null,
   "id": "confident-landscape",
   "metadata": {},
   "outputs": [],
   "source": []
  }
 ],
 "metadata": {
  "kernelspec": {
   "display_name": "Python 3",
   "language": "python",
   "name": "python3"
  },
  "language_info": {
   "codemirror_mode": {
    "name": "ipython",
    "version": 3
   },
   "file_extension": ".py",
   "mimetype": "text/x-python",
   "name": "python",
   "nbconvert_exporter": "python",
   "pygments_lexer": "ipython3",
   "version": "3.7.10"
  }
 },
 "nbformat": 4,
 "nbformat_minor": 5
}
