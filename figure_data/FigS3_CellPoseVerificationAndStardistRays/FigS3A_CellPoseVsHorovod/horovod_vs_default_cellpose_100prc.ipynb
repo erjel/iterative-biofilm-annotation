{
 "cells": [
  {
   "cell_type": "code",
   "execution_count": null,
   "metadata": {},
   "outputs": [],
   "source": [
    "import matplotlib.pyplot as plt\n",
    "import numpy as np\n",
    "from pathlib import Path\n",
    "import os\n",
    "import re\n",
    "import pandas as pd\n",
    "import matplotlib as mpl\n",
    "from glob import glob\n",
    "from tifffile import imread\n",
    "\n",
    "import yaml"
   ]
  },
  {
   "cell_type": "code",
   "execution_count": null,
   "metadata": {},
   "outputs": [],
   "source": [
    "output_folder = Path('output')\n",
    "\n",
    "if not output_folder.is_dir():\n",
    "    os.makedirs(str(output_folder))"
   ]
  },
  {
   "cell_type": "code",
   "execution_count": null,
   "metadata": {},
   "outputs": [],
   "source": [
    "def readDataset(datasetName, verbose=False):\n",
    "\n",
    "    dataset_root = r'..\\datasets'\n",
    "\n",
    "    data_class = 'masks'\n",
    "    data_purpose = 'train'\n",
    "    \n",
    "    verbose and print(os.path.join(dataset_root, datasetName, data_purposes[0], data_classes[0], '*.tif'))\n",
    "    \n",
    "    Y = {data_purpose:\n",
    "            [imread(x) for x in sorted(glob(os.path.join(dataset_root, datasetName, data_purpose, data_class, '*.tif')))]\n",
    "        }\n",
    "\n",
    "    return Y"
   ]
  },
  {
   "cell_type": "code",
   "execution_count": null,
   "metadata": {},
   "outputs": [],
   "source": [
    "with open('..\\config.yaml', 'r') as f:\n",
    "    config = yaml.load(f, Loader=yaml.FullLoader)\n",
    "\n",
    "datasetname = 'full_semimanual-raw'\n",
    "outputname = 'test.png'\n",
    "\n",
    "final_models = config['cellpose_models_raw_full_low']\n",
    "final_models"
   ]
  },
  {
   "cell_type": "code",
   "execution_count": null,
   "metadata": {},
   "outputs": [],
   "source": [
    "def get_minor_models(modelname):\n",
    "    \n",
    "    tmp = modelname.split('_ep')[-1].split('_dep')\n",
    "    epochs = int(tmp[0])\n",
    "    delta_epochs = int(tmp[-1])\n",
    "    minor_models = []\n",
    "    \n",
    "    for ep in range(epochs, 1, -delta_epochs):\n",
    "        minor_models.append(modelname.replace('_ep500', f'_ep{ep}'))\n",
    "        \n",
    "    return minor_models"
   ]
  },
  {
   "cell_type": "code",
   "execution_count": null,
   "metadata": {},
   "outputs": [],
   "source": [
    "models = []\n",
    "for modelname in final_models:\n",
    "    for m in get_minor_models(modelname):\n",
    "        models.append(m)\n",
    "        "
   ]
  },
  {
   "cell_type": "code",
   "execution_count": null,
   "metadata": {},
   "outputs": [],
   "source": [
    "accuracy_files = []"
   ]
  },
  {
   "cell_type": "code",
   "execution_count": null,
   "metadata": {},
   "outputs": [],
   "source": [
    "accuracy_files = [str(Path('..\\data') / m / 'accuracy_manual_raw_v3.csv' ) for m in models]\n",
    "#accuracy_files = [f'data/{m}/accuracy_full_semimanual-raw.csv' for m in models]\n",
    "accuracy_files = [Path(f).parent for f in accuracy_files if Path(f).is_file()]\n",
    "\n",
    "accuracy_files"
   ]
  },
  {
   "cell_type": "code",
   "execution_count": null,
   "metadata": {},
   "outputs": [],
   "source": [
    "df = pd.DataFrame(columns=['path', 'type', 'percentage', 'replicate', 'epoch', 'cell_number', 'accuracy_manual', 'accuracy_semimanual'])\n",
    "\n",
    "p = '.*True_(?P<percentage>[\\d\\.]+)prc_rep(?P<replicate>\\d+)_ep(?P<epoch>\\d+)_dep.*'\n",
    "pattern = re.compile(p)\n",
    "\n",
    "for f in accuracy_files:\n",
    "    match = pattern.match(str(f))\n",
    "    df = df.append({'path':str(f) , 'type':'cellpose', **match.groupdict()}, ignore_index=True)"
   ]
  },
  {
   "cell_type": "code",
   "execution_count": null,
   "metadata": {},
   "outputs": [],
   "source": [
    "df"
   ]
  },
  {
   "cell_type": "code",
   "execution_count": null,
   "metadata": {},
   "outputs": [],
   "source": [
    "Y = readDataset('patches-semimanual-raw-64x128x128')"
   ]
  },
  {
   "cell_type": "code",
   "execution_count": null,
   "metadata": {},
   "outputs": [],
   "source": [
    "len(Y['train'])"
   ]
  },
  {
   "cell_type": "code",
   "execution_count": null,
   "metadata": {},
   "outputs": [],
   "source": [
    "sum_Y = [np.sum(y) for y in Y['train']]\n",
    "Y['train'] = [Y['train'][i] for i in range(len(Y['train'])) if sum_Y[i] > 0]"
   ]
  },
  {
   "cell_type": "code",
   "execution_count": null,
   "metadata": {},
   "outputs": [],
   "source": [
    "len(Y['train'])"
   ]
  },
  {
   "cell_type": "code",
   "execution_count": null,
   "metadata": {},
   "outputs": [],
   "source": [
    "N_cells = [len(np.unique(y))-1 for y in Y['train']]"
   ]
  },
  {
   "cell_type": "code",
   "execution_count": null,
   "metadata": {},
   "outputs": [],
   "source": [
    "for index, row in df.iterrows():\n",
    "    seed = int(row.replicate) if row.type == 'cellpose' else 42\n",
    "    rng = np.random.RandomState(int(row.replicate))\n",
    "    ind = rng.permutation(len(Y['train']))\n",
    "    n_val = max(1, int(round(float(row.percentage) / 100 * len(ind))))\n",
    "    df.iloc[index]['cell_number'] = np.sum([N_cells[i] for i in ind[:n_val]])\n",
    "    \n",
    "    for data_name, col in zip(['accuracy_manual_raw_v3.csv', 'accuracy_full_semimanual-raw.csv'], ['accuracy_manual', 'accuracy_semimanual']):\n",
    "    #for data_name, col in zip(['accuracy_full_semimanual-raw.csv', 'accuracy_full_semimanual-raw.csv'], ['accuracy_manual', 'accuracy_semimanual']):\n",
    "        if (Path(row.path) / data_name).is_file():\n",
    "            data = np.genfromtxt(Path(row.path) / data_name, delimiter=' ')\n",
    "            df.iloc[index][col] = data[1][np.where(data[0]==0.5)[0]][0]\n",
    "\n",
    "        else:\n",
    "            df.iloc[index][col] = np.nan\n",
    "\n",
    "df"
   ]
  },
  {
   "cell_type": "code",
   "execution_count": null,
   "metadata": {},
   "outputs": [],
   "source": [
    "df = df.astype({'accuracy_manual': 'float', 'accuracy_semimanual':'float', 'percentage':'float', 'epoch':'float'})"
   ]
  },
  {
   "cell_type": "code",
   "execution_count": null,
   "metadata": {},
   "outputs": [],
   "source": [
    "df[(df.type=='cellpose') & (df.percentage == 100) & (df.epoch==500)]"
   ]
  },
  {
   "cell_type": "code",
   "execution_count": null,
   "metadata": {},
   "outputs": [],
   "source": [
    "# read default cellpose iterative training\n",
    "\n",
    "cellpose_vals = []\n",
    "for i, row in df[(df.type=='cellpose') & (df.percentage == 100) & (df.epoch==500)].iterrows():\n",
    "    acc_file = sorted(Path(row.path).glob('accuracy_full_semimanual-raw.csv'))\n",
    "    data = np.genfromtxt(str(acc_file[0]), delimiter=' ')\n",
    "    cellpose_vals.append(data[1])\n",
    "    "
   ]
  },
  {
   "cell_type": "code",
   "execution_count": null,
   "metadata": {},
   "outputs": [],
   "source": [
    "# read horovod\n",
    "acc_files_horovod = sorted(Path('..\\data').glob('horovod*prc100*/accuracy_full_semimanual-raw.csv'))"
   ]
  },
  {
   "cell_type": "code",
   "execution_count": null,
   "metadata": {},
   "outputs": [],
   "source": [
    "acc_files_horovod"
   ]
  },
  {
   "cell_type": "code",
   "execution_count": null,
   "metadata": {},
   "outputs": [],
   "source": [
    "horovod_vals = []\n",
    "for acc_file in acc_files_horovod:\n",
    "    data = np.genfromtxt(str(acc_file), delimiter=' ')\n",
    "    horovod_vals.append(data[1])\n",
    "\n",
    "tau_vals = data[0]\n",
    "\n",
    "horovod_mean = np.mean(horovod_vals, axis=0)\n",
    "cellpose_mean = np.mean(cellpose_vals, axis=0)\n",
    "\n",
    "horovod_std =  np.std(horovod_vals, axis=0)\n",
    "cellpose_std =  np.std(cellpose_vals, axis=0)\n",
    "    \n",
    "f, ax = plt.subplots(1)\n",
    "h, = ax.plot(tau_vals, horovod_mean, label='horovod')\n",
    "c, = ax.plot(tau_vals, cellpose_mean, label='cellpose')\n",
    "\n",
    "ax.fill_between(tau_vals, horovod_mean - horovod_std, horovod_mean + horovod_std,\n",
    "    color=h.get_color(), alpha=0.2)\n",
    "\n",
    "ax.fill_between(tau_vals, cellpose_mean - cellpose_std, cellpose_mean + cellpose_std,\n",
    "    color=c.get_color(), alpha=0.2)\n",
    "            \n",
    "\n",
    "    \n",
    "ax.legend()\n",
    "ax.grid()\n",
    "\n",
    "ax.set_xlabel('Intersection over Union [a.u.]')\n",
    "ax.set_ylabel('Mean accuracy [a.u.]')\n",
    "\n",
    "plt.savefig(str(output_folder / 'horovod_vs_default_cellpose_100prc.svg'))"
   ]
  },
  {
   "cell_type": "code",
   "execution_count": null,
   "metadata": {},
   "outputs": [],
   "source": [
    "for i, row in df[(df.type=='cellpose') & (df.percentage == 100) & (df.epoch==500)].iterrows():\n",
    "    print(row.path)"
   ]
  },
  {
   "cell_type": "code",
   "execution_count": null,
   "metadata": {},
   "outputs": [],
   "source": [
    "acc_files_horovod = sorted(Path('..\\data').glob('horovod*prc100*/accuracy_full_semimanual-raw.csv'))\n",
    "acc_files_horovod"
   ]
  },
  {
   "cell_type": "code",
   "execution_count": null,
   "metadata": {},
   "outputs": [],
   "source": []
  }
 ],
 "metadata": {
  "kernelspec": {
   "display_name": "Python 3",
   "language": "python",
   "name": "python3"
  },
  "language_info": {
   "codemirror_mode": {
    "name": "ipython",
    "version": 3
   },
   "file_extension": ".py",
   "mimetype": "text/x-python",
   "name": "python",
   "nbconvert_exporter": "python",
   "pygments_lexer": "ipython3",
   "version": "3.6.10"
  }
 },
 "nbformat": 4,
 "nbformat_minor": 4
}
