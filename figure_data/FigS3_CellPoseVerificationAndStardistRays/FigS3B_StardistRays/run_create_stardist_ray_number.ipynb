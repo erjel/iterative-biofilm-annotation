{
 "cells": [
  {
   "cell_type": "code",
   "execution_count": null,
   "metadata": {},
   "outputs": [],
   "source": [
    "from __future__ import print_function, unicode_literals, absolute_import, division\n",
    "import numpy as np\n",
    "import matplotlib\n",
    "matplotlib.rcParams[\"image.interpolation\"] = None\n",
    "import matplotlib.pyplot as plt\n",
    "%matplotlib inline\n",
    "%config InlineBackend.figure_format = 'retina'\n",
    "\n",
    "from glob import glob\n",
    "from tqdm import tqdm\n",
    "from tifffile import imread\n",
    "from csbdeep.utils import Path, download_and_extract_zip_file\n",
    "\n",
    "from stardist import relabel_image_stardist3D, Rays_GoldenSpiral, calculate_extents\n",
    "from stardist import fill_label_holes, random_label_cmap\n",
    "from stardist.matching import matching_dataset\n",
    "\n",
    "np.random.seed(42)\n",
    "lbl_cmap = random_label_cmap()"
   ]
  },
  {
   "cell_type": "code",
   "execution_count": null,
   "metadata": {},
   "outputs": [],
   "source": [
    "import sys"
   ]
  },
  {
   "cell_type": "code",
   "execution_count": null,
   "metadata": {},
   "outputs": [],
   "source": [
    "sys.path.append('/u/ejelli/jupyter/Notebooks/stardist_mpcdf')"
   ]
  },
  {
   "cell_type": "code",
   "execution_count": null,
   "metadata": {},
   "outputs": [],
   "source": [
    "from stardist_mpcdf.data import readDataset"
   ]
  },
  {
   "cell_type": "code",
   "execution_count": null,
   "metadata": {},
   "outputs": [],
   "source": [
    "import yaml\n",
    "\n",
    "with open(r'../../config.yaml') as file:\n",
    "    config = yaml.load(file, Loader=yaml.FullLoader)"
   ]
  },
  {
   "cell_type": "code",
   "execution_count": null,
   "metadata": {},
   "outputs": [],
   "source": [
    "X, Y = readDataset('patches-semimanual-raw-64x128x128')"
   ]
  },
  {
   "cell_type": "code",
   "execution_count": null,
   "metadata": {},
   "outputs": [],
   "source": [
    "len(X['train'])"
   ]
  },
  {
   "cell_type": "code",
   "execution_count": null,
   "metadata": {},
   "outputs": [],
   "source": [
    "X = X['train']\n",
    "Y = Y['train']"
   ]
  },
  {
   "cell_type": "code",
   "execution_count": null,
   "metadata": {},
   "outputs": [],
   "source": [
    "#X = config['napari_raw_files']\n",
    "#Y = config['napari_label_files']"
   ]
  },
  {
   "cell_type": "code",
   "execution_count": null,
   "metadata": {},
   "outputs": [],
   "source": [
    "#X, Y = X[:10], Y[:10]"
   ]
  },
  {
   "cell_type": "code",
   "execution_count": null,
   "metadata": {},
   "outputs": [],
   "source": [
    "#X = list(map(imread,X))\n",
    "#Y = list(map(imread,Y))"
   ]
  },
  {
   "cell_type": "code",
   "execution_count": null,
   "metadata": {},
   "outputs": [],
   "source": [
    "extents = calculate_extents(Y)\n",
    "anisotropy = tuple(np.max(extents) / extents)\n",
    "print('empirical anisotropy of labeled objects = %s' % str(anisotropy))"
   ]
  },
  {
   "cell_type": "code",
   "execution_count": null,
   "metadata": {},
   "outputs": [],
   "source": [
    "i = 3\n",
    "img, lbl = X[i], fill_label_holes(Y[i])\n",
    "assert img.ndim in (3,4)\n",
    "# assumed axes ordering of img and lbl is: ZYX(C)"
   ]
  },
  {
   "cell_type": "code",
   "execution_count": null,
   "metadata": {},
   "outputs": [],
   "source": [
    "plt.figure(figsize=(16,10))\n",
    "z = img.shape[0] // 2\n",
    "y = img.shape[1] // 2\n",
    "plt.subplot(121); plt.imshow(img[z],cmap='gray');   plt.axis('off'); plt.title('Raw image (XY slice)')\n",
    "plt.subplot(122); plt.imshow(lbl[z],cmap=lbl_cmap); plt.axis('off'); plt.title('GT labels (XY slice)')\n",
    "plt.figure(figsize=(16,10))\n",
    "plt.subplot(121); plt.imshow(img[:,y],cmap='gray');   plt.axis('off'); plt.title('Raw image (XZ slice)')\n",
    "plt.subplot(122); plt.imshow(lbl[:,y],cmap=lbl_cmap); plt.axis('off'); plt.title('GT labels (XZ slice)')\n",
    "None;"
   ]
  },
  {
   "cell_type": "code",
   "execution_count": null,
   "metadata": {},
   "outputs": [],
   "source": [
    "def reconstruction_scores(n_rays, anisotropy):\n",
    "    scores = []\n",
    "    for r in tqdm(n_rays):\n",
    "        rays = Rays_GoldenSpiral(r, anisotropy=anisotropy)\n",
    "        Y_reconstructed = [relabel_image_stardist3D(lbl, rays) for lbl in Y]\n",
    "        mean_iou = matching_dataset(Y, Y_reconstructed, thresh=0, parallel=False, show_progress=False).mean_true_score\n",
    "        scores.append(mean_iou)\n",
    "    return scores"
   ]
  },
  {
   "cell_type": "code",
   "execution_count": null,
   "metadata": {},
   "outputs": [],
   "source": [
    "n_rays = [8, 16, 32, 64, 96, 128, 192, 256]\n",
    "scores_iso   = reconstruction_scores(n_rays, anisotropy=None)\n",
    "scores_aniso = reconstruction_scores(n_rays, anisotropy=anisotropy)"
   ]
  },
  {
   "cell_type": "code",
   "execution_count": null,
   "metadata": {},
   "outputs": [],
   "source": [
    "plt.figure(figsize=(8,5))\n",
    "plt.plot(n_rays, scores_iso,   'o-', label='Isotropic')\n",
    "plt.plot(n_rays, scores_aniso, 'o-', label='Anisotropic')\n",
    "plt.xlabel('Number of stardist rays')\n",
    "plt.ylabel('Mean intersection over union')\n",
    "plt.legend()\n",
    "plt.grid()\n",
    "plt.savefig('stardist_ray_number.eps')\n",
    "plt.savefig('stardist_ray_number.png')\n",
    "None;"
   ]
  },
  {
   "cell_type": "code",
   "execution_count": null,
   "metadata": {},
   "outputs": [],
   "source": [
    "np.save('scores_iso.npz', scores_iso)\n",
    "np.save('scores_aniso.npz', scores_aniso)"
   ]
  },
  {
   "cell_type": "code",
   "execution_count": null,
   "metadata": {},
   "outputs": [],
   "source": []
  }
 ],
 "metadata": {
  "kernelspec": {
   "display_name": "phd_thesis",
   "language": "python",
   "name": "phd_thesis"
  },
  "language_info": {
   "codemirror_mode": {
    "name": "ipython",
    "version": 3
   },
   "file_extension": ".py",
   "mimetype": "text/x-python",
   "name": "python",
   "nbconvert_exporter": "python",
   "pygments_lexer": "ipython3",
   "version": "3.7.7"
  }
 },
 "nbformat": 4,
 "nbformat_minor": 2
}
