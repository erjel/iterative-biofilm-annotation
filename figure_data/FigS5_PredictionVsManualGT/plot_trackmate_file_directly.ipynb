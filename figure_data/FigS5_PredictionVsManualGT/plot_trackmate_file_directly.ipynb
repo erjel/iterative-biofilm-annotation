{
 "cells": [
  {
   "cell_type": "code",
   "execution_count": null,
   "id": "flexible-fluid",
   "metadata": {},
   "outputs": [],
   "source": [
    "import numpy as np"
   ]
  },
  {
   "cell_type": "code",
   "execution_count": null,
   "id": "continuing-forge",
   "metadata": {},
   "outputs": [],
   "source": [
    "filename = r\"Y:\\Eric\\prediction_test\\data\\interim\\trackmate_tests\\care_model_eva-v1-dz400-care_rep1_test.xml\""
   ]
  },
  {
   "cell_type": "code",
   "execution_count": null,
   "id": "amino-shooting",
   "metadata": {},
   "outputs": [],
   "source": [
    "with open(filename, 'r') as f:\n",
    "    data = f.read()"
   ]
  },
  {
   "cell_type": "code",
   "execution_count": null,
   "id": "coordinate-concrete",
   "metadata": {},
   "outputs": [],
   "source": [
    "import xml.etree.ElementTree as ET\n",
    "tree = ET.parse(filename)\n",
    "root = tree.getroot()"
   ]
  },
  {
   "cell_type": "code",
   "execution_count": null,
   "id": "corresponding-mapping",
   "metadata": {},
   "outputs": [],
   "source": [
    "for r in root:\n",
    "    print(r)"
   ]
  },
  {
   "cell_type": "code",
   "execution_count": null,
   "id": "valuable-position",
   "metadata": {},
   "outputs": [],
   "source": [
    "Model = root[1]"
   ]
  },
  {
   "cell_type": "code",
   "execution_count": null,
   "id": "particular-flour",
   "metadata": {},
   "outputs": [],
   "source": [
    "spots = Model[1]\n",
    "print(spots)\n",
    "tracks = Model[2]\n",
    "print(tracks)"
   ]
  },
  {
   "cell_type": "code",
   "execution_count": null,
   "id": "atmospheric-correspondence",
   "metadata": {},
   "outputs": [],
   "source": [
    "def findSpotById(root, spot_id):\n",
    "    "
   ]
  },
  {
   "cell_type": "code",
   "execution_count": null,
   "id": "limited-shelf",
   "metadata": {},
   "outputs": [],
   "source": [
    "spot_id = '1'"
   ]
  },
  {
   "cell_type": "code",
   "execution_count": null,
   "id": "otherwise-clone",
   "metadata": {},
   "outputs": [],
   "source": [
    "def getSpotCoord(root, spot_id):\n",
    "    spot = root.findall(f\"./Model/AllSpots/SpotsInFrame/*/[@ID='{spot_id}']\")\n",
    "    assert(len(spot) == 1)\n",
    "    spot_properties = spot[0].attrib\n",
    "    \n",
    "    x, y, z = tuple(spot_properties[k] for k in ['POSITION_X', 'POSITION_Y', 'POSITION_Z'])\n",
    "    print(x)\n",
    "    return (x, y, z)\n",
    "    "
   ]
  },
  {
   "cell_type": "code",
   "execution_count": null,
   "id": "fancy-press",
   "metadata": {},
   "outputs": [],
   "source": [
    "%matplotlib notebook\n",
    "\n",
    "X = []\n",
    "Y = []\n",
    "Z = []\n",
    "for track in root.findall(f\"./Model/AllTracks/*\")[:1]:\n",
    "\n",
    "    for edge in track.findall('./*'):\n",
    "        edge_properties = edge.attrib\n",
    "        spot_source_id = edge_properties['SPOT_SOURCE_ID']\n",
    "        #print(spot_source_id)\n",
    "        x_start, y_start, z_start = getSpotCoord(root, spot_source_id)\n",
    "        X.append(x_start)\n",
    "        Y.append(y_start)\n",
    "        Z.append(z_start)\n",
    "        \n",
    "    spot_target_id = edge_properties['SPOT_TARGET_ID']\n",
    "    x_end, y_end, z_end =  getSpotCoord(root, spot_target_id)\n",
    "    X.append(x_end)\n",
    "    Y.append(y_end)\n",
    "    Z.append(z_end)"
   ]
  },
  {
   "cell_type": "code",
   "execution_count": null,
   "id": "understanding-dollar",
   "metadata": {},
   "outputs": [],
   "source": [
    "edge_properties"
   ]
  },
  {
   "cell_type": "code",
   "execution_count": null,
   "id": "initial-prevention",
   "metadata": {},
   "outputs": [],
   "source": [
    "print(X)"
   ]
  },
  {
   "cell_type": "code",
   "execution_count": null,
   "id": "powered-address",
   "metadata": {},
   "outputs": [],
   "source": [
    "   \n",
    "import matplotlib as mpl\n",
    "from mpl_toolkits.mplot3d import Axes3D\n",
    "import numpy as np\n",
    "import matplotlib.pyplot as plt\n",
    "\n",
    "mpl.rcParams['legend.fontsize'] = 10\n",
    "\n",
    "fig = plt.figure()\n",
    "ax = fig.gca()\n",
    "#ax = fig.gca(projection='3d')\n",
    "ax.plot(X, Y, label='parametric curve')\n",
    "\"\"\"\n",
    "ax.set_xlim([0, 500])\n",
    "ax.set_ylim([0, 500])\n",
    "ax.set_zlim([0, 50])\n",
    "ax.legend()\n",
    "\n",
    "plt.show()\n",
    "\"\"\""
   ]
  },
  {
   "cell_type": "code",
   "execution_count": null,
   "id": "important-spoke",
   "metadata": {},
   "outputs": [],
   "source": [
    "print"
   ]
  },
  {
   "cell_type": "code",
   "execution_count": null,
   "id": "pediatric-great",
   "metadata": {},
   "outputs": [],
   "source": [
    "s[0]"
   ]
  },
  {
   "cell_type": "code",
   "execution_count": null,
   "id": "athletic-spray",
   "metadata": {},
   "outputs": [],
   "source": [
    "%matplotlib notebook\n",
    "import matplotlib as mpl\n",
    "from mpl_toolkits.mplot3d import Axes3D\n",
    "import numpy as np\n",
    "import matplotlib.pyplot as plt\n",
    "\n",
    "mpl.rcParams['legend.fontsize'] = 10\n",
    "\n",
    "fig = plt.figure()\n",
    "ax = fig.gca(projection='3d')\n",
    "theta = np.linspace(-4 * np.pi, 4 * np.pi, 100)\n",
    "z = np.linspace(-2, 2, 100)\n",
    "r = z**2 + 1\n",
    "x = r * np.sin(theta)\n",
    "y = r * np.cos(theta)\n",
    "ax.plot(x, y, z, label='parametric curve')\n",
    "ax.legend()\n",
    "\n",
    "plt.show()\n"
   ]
  },
  {
   "cell_type": "code",
   "execution_count": null,
   "id": "ordered-context",
   "metadata": {},
   "outputs": [],
   "source": []
  }
 ],
 "metadata": {
  "kernelspec": {
   "display_name": "Python 3",
   "language": "python",
   "name": "python3"
  },
  "language_info": {
   "codemirror_mode": {
    "name": "ipython",
    "version": 3
   },
   "file_extension": ".py",
   "mimetype": "text/x-python",
   "name": "python",
   "nbconvert_exporter": "python",
   "pygments_lexer": "ipython3",
   "version": "3.7.10"
  }
 },
 "nbformat": 4,
 "nbformat_minor": 5
}
