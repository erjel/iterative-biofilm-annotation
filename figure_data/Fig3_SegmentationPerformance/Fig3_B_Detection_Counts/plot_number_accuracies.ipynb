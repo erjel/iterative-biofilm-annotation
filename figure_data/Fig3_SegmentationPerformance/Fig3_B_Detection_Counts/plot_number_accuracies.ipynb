{
 "cells": [
  {
   "cell_type": "code",
   "execution_count": null,
   "metadata": {},
   "outputs": [],
   "source": [
    "from tifffile import imread\n",
    "import numpy as np\n",
    "from pathlib import Path\n",
    "import os\n",
    "import matplotlib.pyplot as plt"
   ]
  },
  {
   "cell_type": "code",
   "execution_count": null,
   "metadata": {},
   "outputs": [],
   "source": [
    "def getResultsAndFeatures(accuracy_file, skip):\n",
    "    results = np.genfromtxt(accuracy_file, delimiter=',', skip_header=skip)\n",
    "\n",
    "    with open(accuracy_file, 'r') as f:\n",
    "        features = f.readline()[2:-1].split(',')            \n",
    "\n",
    "    return results, features"
   ]
  },
  {
   "cell_type": "code",
   "execution_count": null,
   "metadata": {},
   "outputs": [],
   "source": [
    "accuracy_files = [ \n",
    "r\"Y:\\Eric\\2021_Iterative_Biofilm_Annotation\\data\\stardist_192_48x96x96_patches-semimanual-raw-64x128x128_True_70prc_rep5\\accuracy_full_semimanual-raw_verbose.csv\", # stardist\n",
    "r\"Y:\\Eric\\2021_Iterative_Biofilm_Annotation\\data_BiofilmQ\\full_stacks_huy\\accuracies\\data_seeded_watershed\\Pos1_ch1_frame000001_Nz300.csv\", # Improved Hartmann et al\n",
    "r\"Y:\\Eric\\2021_Iterative_Biofilm_Annotation\\data_BiofilmQ\\full_stacks_huy\\accuracies\\data_hartmann_et_al\\Pos1_ch1_frame000001_Nz300.csv\", # Hartmann et al\n",
    "r\"Y:\\Eric\\2021_Iterative_Biofilm_Annotation\\data\\horovod_cellpose_patches-semimanual-raw-64x128x128_prc100_bs8_lr0.00625_wd0.00001_mt0.7_sge_rep1\\accuracy_full_semimanual-raw_verbose.csv\" # cellpose\n",
    "    ]"
   ]
  },
  {
   "cell_type": "code",
   "execution_count": null,
   "metadata": {},
   "outputs": [],
   "source": [
    "results_lists = [ np.genfromtxt(accuracy_file, delimiter=',', skip_header=1) for accuracy_file in accuracy_files]"
   ]
  },
  {
   "cell_type": "code",
   "execution_count": null,
   "metadata": {},
   "outputs": [],
   "source": [
    " with open(accuracy_files[0], 'r') as f:\n",
    "    features = f.readline()[2:-1].split(',')            "
   ]
  },
  {
   "cell_type": "code",
   "execution_count": null,
   "metadata": {},
   "outputs": [],
   "source": [
    "results_lists"
   ]
  },
  {
   "cell_type": "code",
   "execution_count": null,
   "metadata": {},
   "outputs": [],
   "source": [
    "f, (ax1) = plt.subplots(1, 1, figsize=(7, 5))\n",
    "\n",
    "\n",
    "ls_list = ['-', '--', '-.', ':']\n",
    "labels = [' Stardist', ' Improved Hartmann et al.', ' Hartmann et al.', ' Cellpose']\n",
    "\n",
    "for idx in [2, 3, 4]:    \n",
    "    results = results_lists[0]\n",
    "    ls = ls_list[0]\n",
    "    label = labels[0]\n",
    "    \n",
    "    l, = ax1.plot(results[:, 1], results[:, idx], label=features[idx] +  label,linestyle=ls, linewidth=2)\n",
    "    \n",
    "    for results, ls, label in zip(results_lists[1:], ls_list[1:], labels[1:]):\n",
    "\n",
    "        l, = ax1.plot(results[:, 1], results[:, idx], label=features[idx] + label, color=l.get_color(), linestyle=ls, linewidth=2)\n",
    "        \n",
    "ax1.legend(bbox_to_anchor=(1.05, 1), loc='upper left', borderaxespad=0.)\n",
    "ax1.grid()\n",
    "ax1.set_xlabel('IoU threshold (a.u.)')\n",
    "ax1.set_ylabel('Counts');\n",
    "\n",
    "output_folder = Path('outputs')\n",
    "\n",
    "if not output_folder.is_dir():\n",
    "    os.makedirs(str(output_folder))\n",
    "\n",
    "plt.savefig(str(output_folder / 'Number_accuracy.svg'), bbox_inches='tight')"
   ]
  },
  {
   "cell_type": "code",
   "execution_count": null,
   "metadata": {},
   "outputs": [],
   "source": [
    "f, axes = plt.subplots(1, 3, figsize=(14, 3.5))\n",
    "\n",
    "\n",
    "ls_list = ['-', '--', '-.', ':']\n",
    "labels = ['Stardist', 'Improved Hartmann et al.', 'Hartmann et al.', 'Cellpose']\n",
    "\n",
    "for idx,ax1 in zip([2, 3, 4], axes.flat):    \n",
    "   \n",
    "    for results, ls, label in zip(results_lists, ls_list, labels):\n",
    "\n",
    "        l, = ax1.plot(results[:, 1], results[:, idx], label= label, linestyle=ls, linewidth=2)\n",
    "        \n",
    "    ax1.grid()\n",
    "    ax1.set_xlabel('IoU threshold (a.u.)')\n",
    "    ax1.set_ylabel('Counts');\n",
    "    ax1.set_title(features[idx])\n",
    "\n",
    "ax1.legend(bbox_to_anchor=(1.05, 1), loc='upper left', borderaxespad=0.)\n",
    "\n",
    "plt.tight_layout()\n",
    "\n",
    "plt.savefig(str(output_folder / 'Number_accuracy.svg'), bbox_inches='tight')\n",
    "plt.savefig(str(output_folder / 'Number_accuracy.png'), bbox_inches='tight')"
   ]
  },
  {
   "cell_type": "code",
   "execution_count": null,
   "metadata": {},
   "outputs": [],
   "source": []
  }
 ],
 "metadata": {
  "kernelspec": {
   "display_name": "plotting",
   "language": "python",
   "name": "plotting"
  },
  "language_info": {
   "codemirror_mode": {
    "name": "ipython",
    "version": 3
   },
   "file_extension": ".py",
   "mimetype": "text/x-python",
   "name": "python",
   "nbconvert_exporter": "python",
   "pygments_lexer": "ipython3",
   "version": "3.9.1"
  }
 },
 "nbformat": 4,
 "nbformat_minor": 4
}
