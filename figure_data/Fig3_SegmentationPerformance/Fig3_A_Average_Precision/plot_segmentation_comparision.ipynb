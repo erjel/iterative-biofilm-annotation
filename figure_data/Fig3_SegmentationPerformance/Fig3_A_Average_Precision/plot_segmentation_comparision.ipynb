{
 "cells": [
  {
   "cell_type": "code",
   "execution_count": null,
   "metadata": {},
   "outputs": [],
   "source": [
    "from subprocess import run\n",
    "from pathlib import Path\n",
    "\n",
    "import matplotlib\n",
    "import matplotlib.pyplot as plt\n",
    "import numpy as np\n",
    "from pathlib import Path\n",
    "import os\n",
    "import argparse"
   ]
  },
  {
   "cell_type": "code",
   "execution_count": null,
   "metadata": {},
   "outputs": [],
   "source": [
    "data_folder = Path(r'Y:\\Eric\\2021_Iterative_Biofilm_Annotation')"
   ]
  },
  {
   "cell_type": "code",
   "execution_count": null,
   "metadata": {},
   "outputs": [],
   "source": [
    "acc_files_horovod = sorted((data_folder / 'data').glob(r'horovod*prc100*\\accuracy_full_semimanual-raw.csv'))\n",
    "acc_files_horovod"
   ]
  },
  {
   "cell_type": "code",
   "execution_count": null,
   "metadata": {},
   "outputs": [],
   "source": [
    "accuracy_files_ = [(data_folder / 'data_BiofilmQ' / r'full_stacks_huy\\accuracies\\data_seeded_watershed\\Pos1_ch1_frame000001_Nz300.csv')]\n",
    "accuracy_files_hartmann_et_al = [(data_folder / 'data_BiofilmQ' / r'full_stacks_huy\\accuracies\\data_hartmann_et_al\\Pos1_ch1_frame000001_Nz300.csv')]"
   ]
  },
  {
   "cell_type": "code",
   "execution_count": null,
   "metadata": {},
   "outputs": [],
   "source": [
    "stardist_models_raw = \\\n",
    "[r\"stardist_192_48x96x96_patches-semimanual-raw-64x128x128_True_100prc_rep1\",\n",
    "r\"stardist_192_48x96x96_patches-semimanual-raw-64x128x128_True_100prc_rep2\",\n",
    "r\"stardist_192_48x96x96_patches-semimanual-raw-64x128x128_True_100prc_rep3\",\n",
    "r\"stardist_192_48x96x96_patches-semimanual-raw-64x128x128_True_100prc_rep4\",\n",
    "r\"stardist_192_48x96x96_patches-semimanual-raw-64x128x128_True_100prc_rep5\"]\n",
    "\n",
    "stardist_models_raw = [str(data_folder / 'data' / name) for name in stardist_models_raw]"
   ]
  },
  {
   "cell_type": "code",
   "execution_count": null,
   "metadata": {},
   "outputs": [],
   "source": [
    "acc_files_stardist = [Path(m) / 'accuracy_full_semimanual-raw.csv' for m in stardist_models_raw]"
   ]
  },
  {
   "cell_type": "code",
   "execution_count": null,
   "metadata": {},
   "outputs": [],
   "source": [
    "    accuracy_files = accuracy_files_ + accuracy_files_hartmann_et_al + acc_files_horovod+ acc_files_stardist\n",
    "    output_folder = Path('outputs')\n",
    "    if not output_folder.is_dir():\n",
    "        os.makedirs(output_folder)\n",
    "    figure_filename = str(output_folder / 'segmentation_combarison.svg')\n",
    "\n",
    "    print(figure_filename)\n",
    "    print(accuracy_files)\n",
    "    \n",
    "    modelnames = [Path(f).parent.name for f in accuracy_files]\n",
    "    "
   ]
  },
  {
   "cell_type": "code",
   "execution_count": null,
   "metadata": {},
   "outputs": [],
   "source": [
    "modelnames"
   ]
  },
  {
   "cell_type": "code",
   "execution_count": null,
   "metadata": {},
   "outputs": [],
   "source": [
    "  \n",
    "    print('\\n')\n",
    "    data = []\n",
    "    for i, filename in enumerate(accuracy_files):\n",
    "        print(filename)\n",
    "        if i > 1:\n",
    "            data.append(np.genfromtxt(filename, delimiter=' '))\n",
    "        else:\n",
    "            data.append(np.genfromtxt(str(filename), delimiter=',', skip_header=1))\n",
    "    \n",
    "    modelnames_clean = [m.split('_rep')[0] for m in modelnames]\n",
    "    model_type_names, model_types = np.unique(modelnames_clean, return_inverse=True)\n",
    "    model_type_names = ['Improved Hartmann et al.', 'Hartmann et al.', 'Cellpose', 'Stardist']\n",
    "    "
   ]
  },
  {
   "cell_type": "code",
   "execution_count": null,
   "metadata": {},
   "outputs": [],
   "source": [
    "modelnames_clean"
   ]
  },
  {
   "cell_type": "code",
   "execution_count": null,
   "metadata": {},
   "outputs": [],
   "source": [
    "model_type_names"
   ]
  },
  {
   "cell_type": "code",
   "execution_count": null,
   "metadata": {},
   "outputs": [],
   "source": [
    "model_types"
   ]
  },
  {
   "cell_type": "code",
   "execution_count": null,
   "metadata": {},
   "outputs": [],
   "source": [
    "    f, ax = plt.subplots(1)\n",
    "\n",
    "    for model_type in range(max(model_types)+1):\n",
    "        models_of_type = np.where(model_types == model_type)[0]\n",
    "        data_ = [data[i] for i in models_of_type]\n",
    "        print(len(data_))\n",
    "        data_ = np.asarray(data_)\n",
    "        print(data_.ndim, data_.shape)\n",
    "        mean = np.mean(data_, axis=0)\n",
    "        std = np.std(data_, axis=0)\n",
    "        \n",
    "        if model_type > 1:\n",
    "        \n",
    "            p, = ax.plot(mean[0], mean[1], label=model_type_names[model_type])\n",
    "\n",
    "            ax.fill_between(mean[0], mean[1] - std[1], mean[1] + std[1],\n",
    "                     color=p.get_color(), alpha=0.2)\n",
    "        else:\n",
    "            print(sum(mean))\n",
    "            ax.plot(np.asarray(data[model_type][:, 1]), data[model_type][:,7], label=model_type_names[model_type])\n",
    "\n",
    "    x_label = 'Intersection over union [a.u.]'\n",
    "    y_label = 'Average precision [a.u.]'\n",
    "    ax.set_xlabel(x_label)\n",
    "    ax.set_ylabel(y_label)\n",
    "\n",
    "    ax.grid()\n",
    "    ax.legend()\n",
    "    plt.savefig(figure_filename, bbox_inches='tight')\n",
    "    plt.savefig(figure_filename.split('.')[0] + '.png', bbox_inches='tight')\n",
    "    plt.show()"
   ]
  },
  {
   "cell_type": "code",
   "execution_count": null,
   "metadata": {},
   "outputs": [],
   "source": [
    "!conda env export -n plotting > environment.yml"
   ]
  }
 ],
 "metadata": {
  "kernelspec": {
   "display_name": "plotting",
   "language": "python",
   "name": "plotting"
  },
  "language_info": {
   "codemirror_mode": {
    "name": "ipython",
    "version": 3
   },
   "file_extension": ".py",
   "mimetype": "text/x-python",
   "name": "python",
   "nbconvert_exporter": "python",
   "pygments_lexer": "ipython3",
   "version": "3.9.1"
  }
 },
 "nbformat": 4,
 "nbformat_minor": 4
}
