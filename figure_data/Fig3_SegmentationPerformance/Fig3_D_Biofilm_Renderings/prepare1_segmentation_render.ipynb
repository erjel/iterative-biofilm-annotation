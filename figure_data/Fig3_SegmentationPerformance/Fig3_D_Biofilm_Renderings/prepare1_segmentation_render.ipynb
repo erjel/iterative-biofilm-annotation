{
 "cells": [
  {
   "cell_type": "code",
   "execution_count": null,
   "metadata": {},
   "outputs": [],
   "source": [
    "from tifffile import imread, imsave\n",
    "from stardist.matching import  matching\n",
    "import numpy as np\n",
    "from pathlib import Path\n",
    "from skimage.segmentation import relabel_sequential"
   ]
  },
  {
   "cell_type": "code",
   "execution_count": null,
   "metadata": {},
   "outputs": [],
   "source": [
    "import matplotlib.pyplot as plt"
   ]
  },
  {
   "cell_type": "code",
   "execution_count": null,
   "metadata": {},
   "outputs": [],
   "source": [
    "def color_cells(volume, idcs):\n",
    "    \"\"\"\n",
    "    background = 0\n",
    "    not in idcs = 1\n",
    "    in idcs = 2\n",
    "    \"\"\"\n",
    "    idcs = np.asarray(idcs)\n",
    "    lut = np.ones(np.max(volume)+1)\n",
    "    lut[idcs] = 2\n",
    "    lut[0] = 0\n",
    "    return lut[volume]"
   ]
  },
  {
   "cell_type": "code",
   "execution_count": null,
   "metadata": {},
   "outputs": [],
   "source": [
    "def create_fn_fp_tifs(output_fn, output_fp, prediction_path, ground_truth_path, thresh=0.5, remove_pred_slice=False):\n",
    "    \n",
    "    Y_pred_paths, Y_true_paths = prediction_path, ground_truth_path\n",
    "    \n",
    "    if remove_pred_slice:\n",
    "        Y_pred = imread(str(Y_pred_paths))\n",
    "        Y_true = imread(str(Y_true_paths))[1:]\n",
    "    else:\n",
    "        Y_pred, Y_true = tuple(imread(str(paths)) for paths in [Y_pred_paths, Y_true_paths]) \n",
    "    Y_pred, Y_true = tuple(relabel_sequential(Y_)[0] for Y_ in [Y_pred, Y_true])\n",
    "\n",
    "    m = matching(Y_true, Y_pred, thresh=0.5, report_matches=True)\n",
    "\n",
    "    matching_dict = m._asdict()\n",
    "    matched_pairs = np.asarray(matching_dict['matched_pairs'])\n",
    "    matched_tps = np.asarray(matching_dict['matched_tps'])\n",
    "    \n",
    "    Y_true_ids = matched_pairs[matched_tps, 0]\n",
    "    Y_pred_ids = matched_pairs[matched_tps, 1]\n",
    "\n",
    "    Y_true_, Y_pred_ = color_cells(Y_true, Y_true_ids), color_cells(Y_pred, Y_pred_ids)\n",
    "    \n",
    "    imsave(output_fn, Y_true_, compress=9)\n",
    "    imsave(output_fp, Y_pred_, compress=9)"
   ]
  },
  {
   "cell_type": "code",
   "execution_count": null,
   "metadata": {},
   "outputs": [],
   "source": [
    "# biofilmQ + Huygens output"
   ]
  },
  {
   "cell_type": "code",
   "execution_count": null,
   "metadata": {},
   "outputs": [],
   "source": [
    "gt_path_mask = '../../chapter_single_cell_segmentation/full_semimanual-huy/test/masks/im0.tif'\n",
    "prediction= '../../chapter_single_cell_segmentation/full_semimanual-huy/test/images_Pos1/2020-08-17_data_seeded_watershed/huy_seeded_watershed.tif'"
   ]
  },
  {
   "cell_type": "code",
   "execution_count": null,
   "metadata": {},
   "outputs": [],
   "source": [
    "create_fn_fp_tifs('biofilmQ_fn.tif', 'biofilmQ_fp.tif', prediction, gt_path_mask)"
   ]
  },
  {
   "cell_type": "code",
   "execution_count": null,
   "metadata": {},
   "outputs": [],
   "source": [
    "# 'stardist_192_48x96x96_patches-semimanual-raw-64x128x128_True_70prc_rep5' # best network"
   ]
  },
  {
   "cell_type": "code",
   "execution_count": null,
   "metadata": {},
   "outputs": [],
   "source": [
    "prediction = '../predictions/stardist_192_48x96x96_patches-semimanual-raw-64x128x128_True_70prc_rep5/datasets/full_semimanual-raw/test/images/im0.tif'"
   ]
  },
  {
   "cell_type": "code",
   "execution_count": null,
   "metadata": {},
   "outputs": [],
   "source": [
    "create_fn_fp_tifs('stardist_fn.tif', 'stardist_fp.tif', prediction, gt_path_mask, remove_pred_slice=True)"
   ]
  },
  {
   "cell_type": "code",
   "execution_count": null,
   "metadata": {},
   "outputs": [],
   "source": [
    "# now use the matlab script prepare2_tiff2vtk.m "
   ]
  },
  {
   "cell_type": "code",
   "execution_count": null,
   "metadata": {},
   "outputs": [],
   "source": [
    "!pwd"
   ]
  },
  {
   "cell_type": "code",
   "execution_count": null,
   "metadata": {},
   "outputs": [],
   "source": []
  }
 ],
 "metadata": {
  "kernelspec": {
   "display_name": "phd_thesis",
   "language": "python",
   "name": "phd_thesis"
  },
  "language_info": {
   "codemirror_mode": {
    "name": "ipython",
    "version": 3
   },
   "file_extension": ".py",
   "mimetype": "text/x-python",
   "name": "python",
   "nbconvert_exporter": "python",
   "pygments_lexer": "ipython3",
   "version": "3.7.7"
  }
 },
 "nbformat": 4,
 "nbformat_minor": 2
}
