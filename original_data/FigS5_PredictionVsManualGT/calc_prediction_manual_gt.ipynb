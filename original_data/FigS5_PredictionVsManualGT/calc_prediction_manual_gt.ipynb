{
 "cells": [
  {
   "cell_type": "markdown",
   "id": "297acce1",
   "metadata": {},
   "source": [
    "# Load manual dataset"
   ]
  },
  {
   "cell_type": "code",
   "execution_count": null,
   "id": "3f0e4ccd",
   "metadata": {},
   "outputs": [],
   "source": [
    "from pathlib import Path\n",
    "from tifffile import imread"
   ]
  },
  {
   "cell_type": "code",
   "execution_count": null,
   "id": "1b28acce",
   "metadata": {},
   "outputs": [],
   "source": [
    "image_paths = sorted(Path('manual_raw_v3').glob('*/images/*.tif'))\n",
    "label_paths = sorted(Path('manual_raw_v3').glob('*/masks/*.tif'))"
   ]
  },
  {
   "cell_type": "code",
   "execution_count": null,
   "id": "623f8b87",
   "metadata": {},
   "outputs": [],
   "source": [
    "assert(len(image_paths) == len(label_paths))"
   ]
  },
  {
   "cell_type": "code",
   "execution_count": null,
   "id": "79740a2b",
   "metadata": {},
   "outputs": [],
   "source": [
    "X = [imread(image_path) for image_path in image_paths]\n",
    "Y = [imread(label_paths) for label_path in label_paths]"
   ]
  },
  {
   "cell_type": "markdown",
   "id": "858acbd4",
   "metadata": {},
   "source": [
    "# Create predictions"
   ]
  },
  {
   "cell_type": "markdown",
   "id": "cd95aba4",
   "metadata": {},
   "source": [
    "## Stardist"
   ]
  },
  {
   "cell_type": "code",
   "execution_count": null,
   "id": "5efab04a",
   "metadata": {},
   "outputs": [],
   "source": [
    "stardist_type = 'stardist_192_48x96x96_patches-semimanual-raw-64x128x128_True_100prc_rep*'"
   ]
  },
  {
   "cell_type": "code",
   "execution_count": null,
   "id": "9cb3bb86",
   "metadata": {},
   "outputs": [],
   "source": [
    "models = sorted(Path('./models').glob(stardist_type))\n",
    "models"
   ]
  },
  {
   "cell_type": "code",
   "execution_count": null,
   "id": "fdad964f",
   "metadata": {
    "jupyter": {
     "outputs_hidden": true
    }
   },
   "outputs": [],
   "source": [
    "from subprocess import check_output\n",
    "\n",
    "for model in models: \n",
    "    p = check_output([\n",
    "        'python', 'stardist_prediction.py',\n",
    "            str(model),\n",
    "            'manual_raw_v3/test/images/im0.tif',\n",
    "            'stardist_predictions'])\n",
    "    print(p.decode())"
   ]
  },
  {
   "cell_type": "markdown",
   "id": "18dc96f1",
   "metadata": {},
   "source": [
    "## Cellpose/ horovod"
   ]
  },
  {
   "cell_type": "code",
   "execution_count": null,
   "id": "07bc6366",
   "metadata": {},
   "outputs": [],
   "source": [
    "horovod_type = 'horovod_cellpose_patches-semimanual-raw-64x128x128_prc100_bs8_lr0.00625_wd0.00001_mt0.7_sge_rep*'\n",
    "models = sorted(Path('./models').glob(horovod_type))\n",
    "models"
   ]
  },
  {
   "cell_type": "code",
   "execution_count": null,
   "id": "88737f22",
   "metadata": {
    "jupyter": {
     "outputs_hidden": true
    }
   },
   "outputs": [],
   "source": [
    "for model in models: \n",
    "    p = check_output([\n",
    "        'python', 'cellpose_prediction.py',\n",
    "            str(model),\n",
    "            'manual_raw_v3/test/images/im0.tif',\n",
    "            'dummy'])\n",
    "    print(p.decode())"
   ]
  },
  {
   "cell_type": "markdown",
   "id": "b1245068",
   "metadata": {},
   "source": [
    "## Semi-manual annotation of manual dataset"
   ]
  },
  {
   "cell_type": "code",
   "execution_count": null,
   "id": "61319ba2",
   "metadata": {},
   "outputs": [],
   "source": [
    "from tifffile import imsave\n",
    "\n",
    "crop_values = (slice(10, 139), slice(255, 512), slice(255,512))\n",
    "semimanual_annotation = 'napari_annotation/Pos1_ch2_frame000001_Nz300L.tif'\n",
    "\n",
    "semimanual_annotation = imread(str(semimanual_annotation))\n",
    "\n",
    "\n",
    "Y_ = [semimanual_annotation[crop_values]]\n",
    "\n",
    "\n",
    "output_dir = Path('interference') / 'im0' / 'semi-manual_annotation'\n",
    "output_dir.mkdir(parents=True, exist_ok=True)\n",
    "\n",
    "filelist_x = [Path('im0P.tif')]\n",
    "\n",
    "assert(len(filelist_x) == len(Y_))\n",
    "\n",
    "for y, x_path in zip(Y_, filelist_x):\n",
    "    imsave(output_dir / x_path.name, y, compress=9)"
   ]
  },
  {
   "cell_type": "markdown",
   "id": "f8b27b3a",
   "metadata": {},
   "source": [
    "## Hartmann et al."
   ]
  },
  {
   "cell_type": "code",
   "execution_count": null,
   "id": "1602c675",
   "metadata": {},
   "outputs": [],
   "source": [
    "from subprocess import check_output"
   ]
  },
  {
   "cell_type": "code",
   "execution_count": null,
   "id": "a3da7bbd",
   "metadata": {},
   "outputs": [],
   "source": [
    "data_dir = r'Y:/Eric/2021_Iterative_Biofilm_Annotation/Figures/FigS5_PredictionVsManualGT/ExperimentData_hartmann_et_al/data'\n",
    "script_folder = r'Y:/Eric/2021_Iterative_Biofilm_Annotation/Figures/FigS5_PredictionVsManualGT'\n",
    "cmd = ['matlab', '-nojvm', '-nosplash', '-batch', f\"addpath('{script_folder}');data2labelimage('{data_dir}','{data_dir}');\"]\n",
    "print(' '.join(cmd))\n",
    "#output = check_output(cmd)"
   ]
  },
  {
   "cell_type": "markdown",
   "id": "5259ff76",
   "metadata": {},
   "source": [
    "## Sanity check"
   ]
  },
  {
   "cell_type": "code",
   "execution_count": null,
   "id": "25467cfc",
   "metadata": {},
   "outputs": [],
   "source": [
    "crop_values = (slice(10, 139), slice(255, 512), slice(255,512))\n",
    "\n",
    "import numpy as np\n",
    "im_raw_full_path = sorted(Path('ExperimentData_hartmann_et_al').glob('*_ch1_*.tif'))\n",
    "assert(len(im_raw_full_path) == 1)\n",
    "im_raw_full = imread(im_raw_full_path[0])\n",
    "im_raw_cropped = im_raw_full[crop_values]\n",
    "assert(np.all(im_raw_cropped == im0_test))"
   ]
  },
  {
   "cell_type": "markdown",
   "id": "aa3924ad",
   "metadata": {},
   "source": [
    "It looks like ch2 is +1 z offsetted in comparision to ch1:\n",
    "\n",
    "Check the influence of different offsets on the accuracy mesurement!"
   ]
  },
  {
   "cell_type": "code",
   "execution_count": null,
   "id": "c8a6a270",
   "metadata": {},
   "outputs": [],
   "source": [
    "im_prediction_full = sorted(Path('ExperimentData_hartmann_et_al/data').glob('*.tif'))\n",
    "\n",
    "assert(len(im_prediction_full) == 1)\n",
    "\n",
    "im_prediction_full = imread(im_prediction_full)\n",
    "\n",
    "print(im_prediction_full.shape, im_raw_full.shape)\n",
    "\n",
    "from scipy.ndimage import affine_transform\n",
    "\n",
    "new_shape = np.asarray(im_prediction_full.shape, dtype=np.float)\n",
    "new_shape = new_shape * np.array([61/100, 1, 1])\n",
    "new_shape, im_raw_full.shape\n",
    "\n",
    "def ImageInterpolation(image, d, new_shape, order=3):\n",
    "\n",
    "    trans_matrix = np.diag([1/d, 1, 1])\n",
    "    rescaled = affine_transform(image, trans_matrix, output_shape=new_shape, order=order)\n",
    "\n",
    "    return rescaled\n",
    "\n",
    "factor = 61/100\n",
    "im_rescaled = ImageInterpolation(im_prediction_full, factor, new_shape.astype(int), order=0)"
   ]
  },
  {
   "cell_type": "code",
   "execution_count": null,
   "id": "fde6ebf0",
   "metadata": {},
   "outputs": [],
   "source": [
    "im_rescaled.shape, im_raw_full.shape"
   ]
  },
  {
   "cell_type": "code",
   "execution_count": null,
   "id": "863b05a9",
   "metadata": {},
   "outputs": [],
   "source": [
    "for offset in range(-2,3):\n",
    "    print(offset)\n",
    "    c = crop_values[0]\n",
    "    crop_values_ = (slice(c.start + offset, c.stop+offset, c.step), crop_values[1], crop_values[2])\n",
    "    im0P = im_rescaled[crop_values_]\n",
    "    output_file = Path(f'interference/im0/hartmann_et_al_offset{offset}/im0P.tif')\n",
    "    output_file.parent.mkdir(parents=True, exist_ok=True)\n",
    "    imwrite(output_file, im0P)"
   ]
  },
  {
   "cell_type": "markdown",
   "id": "7fa6437f",
   "metadata": {},
   "source": [
    "## Seeded Watershed (same story)"
   ]
  },
  {
   "cell_type": "code",
   "execution_count": null,
   "id": "80c0dd7a",
   "metadata": {},
   "outputs": [],
   "source": [
    "data_dir = r'Y:/Eric/2021_Iterative_Biofilm_Annotation/Figures/FigS5_PredictionVsManualGT/ExperimentData_seeded_watershed/data'\n",
    "script_folder = r'Y:/Eric/2021_Iterative_Biofilm_Annotation/Figures/FigS5_PredictionVsManualGT'\n",
    "cmd = ['matlab', '-nojvm', '-nosplash', '-batch', f\"addpath('{script_folder}');data2labelimage('{data_dir}','{data_dir}');\"]\n",
    "print(' '.join(cmd))\n",
    "#output = check_output(cmd)"
   ]
  },
  {
   "cell_type": "code",
   "execution_count": null,
   "id": "0583fd73",
   "metadata": {},
   "outputs": [],
   "source": [
    "crop_values = (slice(10, 139), slice(255, 512), slice(255,512))\n",
    "\n",
    "import numpy as np\n",
    "im_raw_full_path = sorted(Path('ExperimentData_seeded_watershed').glob('*_ch1_*.tif'))\n",
    "assert(len(im_raw_full_path) == 1)\n",
    "im_raw_full = imread(im_raw_full_path[0])\n",
    "im_raw_cropped = im_raw_full[crop_values]\n",
    "print(im_raw_cropped.shape, im0_test.shape)\n",
    "assert(np.all(im_raw_cropped == im0_test))"
   ]
  },
  {
   "cell_type": "code",
   "execution_count": null,
   "id": "7ea1ff3e",
   "metadata": {},
   "outputs": [],
   "source": [
    "im_prediction_full = sorted(Path('ExperimentData_seeded_watershed/data').glob('*.tif'))\n",
    "\n",
    "assert(len(im_prediction_full) == 1)\n",
    "\n",
    "im_prediction_full = imread(im_prediction_full)\n",
    "\n",
    "print(im_prediction_full.shape, im_raw_full.shape)\n",
    "\n",
    "from scipy.ndimage import affine_transform\n",
    "\n",
    "new_shape = np.asarray(im_prediction_full.shape, dtype=np.float)\n",
    "new_shape = new_shape * np.array([61/100, 1, 1])\n",
    "new_shape, im_raw_full.shape\n",
    "\n",
    "def ImageInterpolation(image, d, new_shape, order=3):\n",
    "\n",
    "    trans_matrix = np.diag([1/d, 1, 1])\n",
    "    rescaled = affine_transform(image, trans_matrix, output_shape=new_shape, order=order)\n",
    "\n",
    "    return rescaled\n",
    "\n",
    "factor = 61/100\n",
    "im_rescaled = ImageInterpolation(im_prediction_full, factor, new_shape.astype(int), order=0)"
   ]
  },
  {
   "cell_type": "code",
   "execution_count": null,
   "id": "9d25e1b6",
   "metadata": {},
   "outputs": [],
   "source": [
    "im_rescaled.shape, im_raw_full.shape"
   ]
  },
  {
   "cell_type": "code",
   "execution_count": null,
   "id": "39088b51",
   "metadata": {},
   "outputs": [],
   "source": [
    "for offset in range(-2,3):\n",
    "    print(offset)\n",
    "    c = crop_values[0]\n",
    "    crop_values_ = (slice(c.start + offset, c.stop+offset, c.step), crop_values[1], crop_values[2])\n",
    "    im0P = im_rescaled[crop_values_]\n",
    "    output_file = Path(f'interference/im0/seeded_watershed_offset{offset}/im0P.tif')\n",
    "    output_file.parent.mkdir(parents=True, exist_ok=True)\n",
    "    imwrite(output_file, im0P)"
   ]
  },
  {
   "cell_type": "markdown",
   "id": "5f86951a",
   "metadata": {},
   "source": [
    "# Calculate all accuracies"
   ]
  },
  {
   "cell_type": "code",
   "execution_count": null,
   "id": "f389f83e",
   "metadata": {},
   "outputs": [],
   "source": [
    "from tifffile import imread\n",
    "from stardist.matching import  matching_dataset\n",
    "import numpy as np\n",
    "from pathlib import Path\n",
    "\n",
    "\n",
    "def calc_accuracy(output_file, pred_path, gt_path, z_cutoff=None):\n",
    "    output_file = Path(output_file)\n",
    "    Y_pred_paths = [Path(pred_path)]\n",
    "    Y_true_paths = [Path(gt_path)]\n",
    "    \n",
    "    Y_pred = [imread(str(p)) for p in Y_pred_paths]\n",
    "    Y_true = [imread(str(p)) for p in Y_true_paths]\n",
    "\n",
    "    tau_values = tuple(np.arange(0.05, 1, 0.05))\n",
    "    m = matching_dataset(Y_true, Y_pred, thresh=tau_values, show_progress=True, parallel=True)\n",
    "\n",
    "    output = np.asarray([tau_values, [stats._asdict()['accuracy'] for stats in m]])\n",
    "\n",
    "    np.savetxt(output_file, output)\n"
   ]
  },
  {
   "cell_type": "code",
   "execution_count": null,
   "id": "1297cf56",
   "metadata": {},
   "outputs": [],
   "source": [
    "predictions = sorted(Path('interference/im0').glob('*/im0P.tif'))"
   ]
  },
  {
   "cell_type": "code",
   "execution_count": null,
   "id": "d099a938",
   "metadata": {},
   "outputs": [],
   "source": [
    "gt_path = Path(r\"Y:\\Eric\\2021_Iterative_Biofilm_Annotation\\Figures\\FigS5_PredictionVsManualGT\\manual_raw_v3\\test\\masks\\im0.tif\")\n",
    "for prediction in predictions:\n",
    "    modelname = prediction.parent.name\n",
    "    output_path = Path(f'calculated_accuracies/{modelname}/accuracy.csv')\n",
    "    output_path.parent.mkdir(parents=True, exist_ok=True)\n",
    "    calc_accuracy(output_path, prediction, gt_path)"
   ]
  },
  {
   "cell_type": "markdown",
   "id": "23d6977c",
   "metadata": {},
   "source": [
    "# Plot the accuracies"
   ]
  },
  {
   "cell_type": "code",
   "execution_count": null,
   "id": "3929bb98",
   "metadata": {},
   "outputs": [],
   "source": [
    "import matplotlib\n",
    "import matplotlib.pyplot as plt\n",
    "import numpy as np\n",
    "from pathlib import Path\n",
    "import os\n",
    "\n",
    "\n",
    "def plot_accuracies(fig_title, figure_filename, accuracy_files):\n",
    "    print(figure_filename)\n",
    "    print(accuracy_files)\n",
    "    \n",
    "    figure_filename_path = Path(figure_filename)\n",
    "    figure_filename_path.parent.mkdir(parents=True, exist_ok=True)\n",
    "    \n",
    "    modelnames = [Path(f).parent.name for f in accuracy_files]\n",
    "    \n",
    "    print('\\n')\n",
    "    data = []\n",
    "    for filename in accuracy_files:\n",
    "        print(filename)\n",
    "        data.append(np.genfromtxt(filename, delimiter=' '))\n",
    "    \n",
    "    modelnames_clean = [m.split('_rep')[0] for m in modelnames]\n",
    "    model_type_names, model_types = np.unique(modelnames_clean, return_inverse=True)\n",
    "    \n",
    "    f, ax = plt.subplots(1)\n",
    "\n",
    "    for model_type in range(max(model_types)+1):\n",
    "        models_of_type = np.where(model_types == model_type)[0]\n",
    "        data_ = [data[i] for i in models_of_type]\n",
    "        print(len(data_))\n",
    "        data_ = np.asarray(data_)\n",
    "        mean = np.mean(data_, axis=0)\n",
    "        std = np.std(data_, axis=0)\n",
    "        p, = ax.plot(mean[0], mean[1], label=model_type_names[model_type] + ' N={}'.format(len(models_of_type)))\n",
    "        \n",
    "        ax.fill_between(mean[0], mean[1] - std[1], mean[1] + std[1],\n",
    "                 color=p.get_color(), alpha=0.2)\n",
    "\n",
    "    ax.set_ylabel('accuracy')\n",
    "    ax.set_xlabel(r'$\\tau$')\n",
    "    ax.legend(bbox_to_anchor=(1.05, 1), loc='upper left', borderaxespad=0.)\n",
    "    ax.grid()\n",
    "    ax.set_title(fig_title)\n",
    "\n",
    "    plt.savefig(figure_filename, bbox_inches='tight')\n",
    "    plt.savefig(figure_filename.split('.')[0] + '.png', bbox_inches='tight')\n",
    "    \n",
    "    f, ax = plt.subplots(1)\n",
    "        \n",
    "    for d, l in zip(data, modelnames):\n",
    "        ax.plot(d[0, :], d[1, :], label=l)\n",
    "        \n",
    "    ax.set_ylabel('accuracy')\n",
    "    ax.set_xlabel(r'$\\tau$')\n",
    "    ax.legend(bbox_to_anchor=(1.05, 1), loc='upper left', borderaxespad=0.)\n",
    "    ax.grid()\n",
    "    ax.set_title(fig_title)\n",
    "    plt.savefig(figure_filename.split('.')[0] + '_raw.png', bbox_inches='tight')"
   ]
  },
  {
   "cell_type": "code",
   "execution_count": null,
   "id": "ef910335",
   "metadata": {},
   "outputs": [],
   "source": [
    "accuracy_files = []\n",
    "accuracy_files.append(Path('calculated_accuracies/seeded_watershed_offset0/accuracy.csv'))\n",
    "accuracy_files.append(Path('calculated_accuracies/hartmann_et_al_offset0/accuracy.csv'))\n",
    "accuracy_files.append(Path(r'calculated_accuracies\\semi-manual_annotation\\accuracy.csv'))\n",
    "accuracy_files += sorted(Path('calculated_accuracies/').glob('stardist*_rep[12345]/accuracy.csv'))\n",
    "accuracy_files += sorted(Path('calculated_accuracies/').glob('horovod_cellpose*/accuracy.csv'))"
   ]
  },
  {
   "cell_type": "code",
   "execution_count": null,
   "id": "f9362810",
   "metadata": {},
   "outputs": [],
   "source": [
    "plot_accuracies('collected_accuracies', 'output/FigS5.svg', accuracy_files)"
   ]
  },
  {
   "cell_type": "code",
   "execution_count": null,
   "id": "cf39c903",
   "metadata": {},
   "outputs": [],
   "source": []
  }
 ],
 "metadata": {
  "kernelspec": {
   "display_name": "Python 3",
   "language": "python",
   "name": "python3"
  },
  "language_info": {
   "codemirror_mode": {
    "name": "ipython",
    "version": 3
   },
   "file_extension": ".py",
   "mimetype": "text/x-python",
   "name": "python",
   "nbconvert_exporter": "python",
   "pygments_lexer": "ipython3",
   "version": "3.8.2"
  }
 },
 "nbformat": 4,
 "nbformat_minor": 5
}
