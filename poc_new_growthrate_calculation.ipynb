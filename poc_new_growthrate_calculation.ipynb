{
 "cells": [
  {
   "cell_type": "code",
   "execution_count": null,
   "id": "closed-distinction",
   "metadata": {},
   "outputs": [],
   "source": [
    "from xml.dom import minidom\n",
    "import numpy as np\n",
    "import pandas as pd\n",
    "from tqdm import tqdm"
   ]
  },
  {
   "cell_type": "code",
   "execution_count": null,
   "id": "numerous-airplane",
   "metadata": {},
   "outputs": [],
   "source": [
    "input_path_xml = r'data\\interim\\trackmate_tests\\correct_labels_and_units_v3_tracked.xml'"
   ]
  },
  {
   "cell_type": "code",
   "execution_count": null,
   "id": "round-calvin",
   "metadata": {},
   "outputs": [],
   "source": [
    "mydoc = minidom.parse(input_path_xml)"
   ]
  },
  {
   "cell_type": "code",
   "execution_count": null,
   "id": "informed-group",
   "metadata": {},
   "outputs": [],
   "source": [
    "feature_names = ['ID', 'FRAME', 'ESTIMATED_DIAMETER',  'POSITION_X', 'POSITION_Y', 'POSITION_Z', 'MEDIAN_INTENSITY']\n"
   ]
  },
  {
   "cell_type": "code",
   "execution_count": null,
   "id": "featured-retail",
   "metadata": {},
   "outputs": [],
   "source": [
    "data = []\n",
    "for spot in tqdm(mydoc.getElementsByTagName('Spot')):\n",
    "    data.append([spot.attributes[key].value for key in feature_names])"
   ]
  },
  {
   "cell_type": "code",
   "execution_count": null,
   "id": "female-utilization",
   "metadata": {},
   "outputs": [],
   "source": [
    "spot_data = pd.DataFrame(data, columns=feature_names)"
   ]
  },
  {
   "cell_type": "code",
   "execution_count": null,
   "id": "floral-ballet",
   "metadata": {},
   "outputs": [],
   "source": [
    "spot_data"
   ]
  },
  {
   "cell_type": "code",
   "execution_count": null,
   "id": "copyrighted-aerospace",
   "metadata": {},
   "outputs": [],
   "source": [
    "data = []\n",
    "for track in tqdm(mydoc.getElementsByTagName('Track')):\n",
    "    track_id = track.attributes['TRACK_ID'].value\n",
    "    for edge in track.getElementsByTagName('Edge'):\n",
    "        data.append([track_id, edge.attributes['SPOT_SOURCE_ID'].value])\n",
    "        data.append([track_id, edge.attributes['SPOT_TARGET_ID'].value])\n",
    "                     \n",
    "track_data = pd.DataFrame(data, columns=['TRACK_ID', 'SPOT_ID'])"
   ]
  },
  {
   "cell_type": "code",
   "execution_count": null,
   "id": "hearing-sequence",
   "metadata": {},
   "outputs": [],
   "source": [
    "track_data"
   ]
  },
  {
   "cell_type": "code",
   "execution_count": null,
   "id": "vocal-appliance",
   "metadata": {},
   "outputs": [],
   "source": [
    "track_data = track_data.drop_duplicates()"
   ]
  },
  {
   "cell_type": "code",
   "execution_count": null,
   "id": "linear-holiday",
   "metadata": {},
   "outputs": [],
   "source": [
    "# sanity check\n",
    "assert(np.all(track_data.groupby('SPOT_ID').count().values == 1))"
   ]
  },
  {
   "cell_type": "code",
   "execution_count": null,
   "id": "defined-party",
   "metadata": {},
   "outputs": [],
   "source": [
    "spot_data = pd.merge(spot_data, track_data, left_on=\"ID\", right_on='SPOT_ID')"
   ]
  },
  {
   "cell_type": "code",
   "execution_count": null,
   "id": "going-florida",
   "metadata": {},
   "outputs": [],
   "source": [
    "spot_data"
   ]
  },
  {
   "cell_type": "code",
   "execution_count": null,
   "id": "israeli-spiritual",
   "metadata": {},
   "outputs": [],
   "source": [
    "spot_data = spot_data.apply(pd.to_numeric)"
   ]
  },
  {
   "cell_type": "code",
   "execution_count": null,
   "id": "subjective-privilege",
   "metadata": {},
   "outputs": [],
   "source": [
    "spot_data"
   ]
  },
  {
   "cell_type": "code",
   "execution_count": null,
   "id": "retired-hypothetical",
   "metadata": {},
   "outputs": [],
   "source": [
    "spot_data.groupby('TRACK_ID')"
   ]
  },
  {
   "cell_type": "code",
   "execution_count": null,
   "id": "cloudy-kinase",
   "metadata": {},
   "outputs": [],
   "source": [
    "spot_data['volume'] = (spot_data.ESTIMATED_DIAMETER / 2)**3 * 4/3 * np.pi"
   ]
  },
  {
   "cell_type": "code",
   "execution_count": null,
   "id": "played-protest",
   "metadata": {},
   "outputs": [],
   "source": [
    "spot_data"
   ]
  },
  {
   "cell_type": "code",
   "execution_count": null,
   "id": "conditional-portugal",
   "metadata": {},
   "outputs": [],
   "source": [
    "# Sanity check:\n",
    "# calculation of diameter:\n",
    "# np.cbrt(p.area*3/(4* np.pi))*2\n",
    "# area is in voxels instead of um\n",
    "# voxel size = 0.400, 0.063, 0.063\n",
    "\n",
    "\n",
    "voxel_volume_um = 0.400*0.063*0.063\n",
    "spot_data['volume_um'] = spot_data['volume']*voxel_volume_um\n",
    "\n",
    "ax = spot_data.volume_um.plot.hist(bins=500) # rule of thumb around 1 um^3\n",
    "ax.set_xlabel(r'Cell Volume [$\\mu m^3$]')\n",
    "ax.set_xlim([0, 8])\n",
    "f = ax.get_figure()\n",
    "f.savefig('CellVolume.svg')\n",
    "f.savefig('CellVolume.png')\n"
   ]
  },
  {
   "cell_type": "code",
   "execution_count": null,
   "id": "athletic-illustration",
   "metadata": {},
   "outputs": [],
   "source": [
    "spot_data.sort_values(['TRACK_ID', 'FRAME'], inplace=True)\n",
    "spot_data['diffs'] = spot_data['volume_um'].diff()\n",
    "spot_data"
   ]
  },
  {
   "cell_type": "code",
   "execution_count": null,
   "id": "outdoor-petite",
   "metadata": {},
   "outputs": [],
   "source": [
    "mask = spot_data.TRACK_ID != spot_data.TRACK_ID.shift(1)\n",
    "spot_data['diffs'][mask] = np.nan"
   ]
  },
  {
   "cell_type": "code",
   "execution_count": null,
   "id": "unlikely-aircraft",
   "metadata": {},
   "outputs": [],
   "source": [
    "spot_data"
   ]
  },
  {
   "cell_type": "code",
   "execution_count": null,
   "id": "chinese-token",
   "metadata": {},
   "outputs": [],
   "source": [
    "# need time deltas!\n",
    "from scipy.io import loadmat\n",
    "from pathlib import Path\n"
   ]
  },
  {
   "cell_type": "code",
   "execution_count": null,
   "id": "anticipated-picture",
   "metadata": {},
   "outputs": [],
   "source": [
    "raw_data_folder = Path(r'Y:\\Daniel\\000_Microscope data\\2020.09.15_CNN3\\kdv1502R_5L_30ms_300gain002\\Pos5')\n",
    "raw_data_mats = sorted(raw_data_folder.glob('*ch1_frame*.mat'))\n",
    "metadata = loadmat(raw_data_mats[0])"
   ]
  },
  {
   "cell_type": "code",
   "execution_count": null,
   "id": "challenging-martial",
   "metadata": {},
   "outputs": [],
   "source": [
    "times = []\n",
    "for i, mat_file in enumerate(raw_data_mats):\n",
    "    metadata = loadmat(mat_file)\n",
    "    times.append([i, pd.to_datetime(metadata['data'][0][0][1][0])])\n",
    "    \n",
    "time_data = pd.DataFrame(times, columns=['FRAME', 'TIME'])"
   ]
  },
  {
   "cell_type": "code",
   "execution_count": null,
   "id": "faced-brave",
   "metadata": {},
   "outputs": [],
   "source": [
    "time_data['time_diff'] = time_data.TIME.diff()"
   ]
  },
  {
   "cell_type": "code",
   "execution_count": null,
   "id": "wrapped-economics",
   "metadata": {},
   "outputs": [],
   "source": [
    "time_data"
   ]
  },
  {
   "cell_type": "code",
   "execution_count": null,
   "id": "opposite-friendly",
   "metadata": {},
   "outputs": [],
   "source": [
    "spot_data = pd.merge(spot_data, time_data,on='FRAME')"
   ]
  },
  {
   "cell_type": "code",
   "execution_count": null,
   "id": "cellular-solution",
   "metadata": {},
   "outputs": [],
   "source": [
    "spot_data['time_diff_min'] = spot_data.time_diff.astype('timedelta64[s]')/60\n",
    "spot_data['time_delta_min'] = (spot_data.TIME - spot_data.TIME[0]).astype('timedelta64[s]') / 60"
   ]
  },
  {
   "cell_type": "code",
   "execution_count": null,
   "id": "convenient-spotlight",
   "metadata": {},
   "outputs": [],
   "source": [
    "spot_data['growthrate_um^3_per_min'] = spot_data['diffs'] /spot_data['time_diff_min']"
   ]
  },
  {
   "cell_type": "code",
   "execution_count": null,
   "id": "natural-thanks",
   "metadata": {},
   "outputs": [],
   "source": [
    "import seaborn as sns\n",
    "\n",
    "\n",
    "\n",
    "df = spot_data\n",
    "\n",
    "df[['mean_z', 'mean_y', 'mean_x']] = \\\n",
    "    df.groupby(['FRAME'])[['POSITION_Z', 'POSITION_Y', 'POSITION_X']].transform('mean')\n",
    "\n",
    "df['distance'] = np.sum(\n",
    "        (\n",
    "            df[['POSITION_Z', 'POSITION_Y', 'POSITION_X']].values \n",
    "                - df[['mean_z', 'mean_y', 'mean_x']].values\n",
    "        )**2,\n",
    "     axis=1)\n",
    "\n",
    "#nbins_time = len(df.FRAME.unique())\n",
    "nbins_time = 50\n",
    "nbins_location = 50\n",
    "\n",
    "v = df.groupby([\n",
    "    pd.cut(df[\"time_delta_min\"], np.linspace(df['time_delta_min'].min(), df['time_delta_min'].max(), nbins_time)),\n",
    "    pd.cut(df['distance'], np.linspace(df['distance'].min(), df['distance'].max(), nbins_location))\n",
    "])['growthrate_um^3_per_min'].mean()\n",
    "\n",
    "heatmap = v.unstack()"
   ]
  },
  {
   "cell_type": "code",
   "execution_count": null,
   "id": "external-mexico",
   "metadata": {},
   "outputs": [],
   "source": [
    "ax = sns.heatmap(heatmap.transpose(), \n",
    "                 cbar_kws={'label': 'growth rate [$\\mu m^3/ min^{-1}$]'},\n",
    "                vmax=0.1,\n",
    "                vmin=0,\n",
    "                cmap=\"viridis_r\")\n",
    "\n",
    "ax.invert_yaxis()\n",
    "ax.set_xlabel('Time [min]')\n",
    "ax.set_ylabel('Distance [vox]')\n",
    "\n",
    "xtick_labels = [np.mean([float(x) for x in text.get_text()[1:-1].split(',')]) for text in ax.get_xticklabels()]\n",
    "xtick_labels = [f'{x:0.1f}' for x in xtick_labels]\n",
    "ax.set_xticklabels(xtick_labels) \n",
    "\n",
    "ytick_labels = [np.mean([float(x) for x in text.get_text()[1:-1].split(',')]) for text in ax.get_yticklabels()]\n",
    "ytick_labels = [f'{x:0.1f}' for x in ytick_labels]\n",
    "ax.set_yticklabels(ytick_labels) \n",
    "\n",
    "\n",
    "f = ax.get_figure()\n",
    "\n",
    "\n",
    "#output_name = Path(args.output_fig)\n",
    "#output_name.parent.mkdir(parents=True, exist_ok=True)\n",
    "\n",
    "#f.savefig(output_name)\n",
    "#return"
   ]
  },
  {
   "cell_type": "code",
   "execution_count": null,
   "id": "japanese-liverpool",
   "metadata": {},
   "outputs": [],
   "source": [
    "import matplotlib.pyplot as plt\n",
    "\n",
    "f, ax = plt.subplots(1, figsize=(5, 10))\n",
    "\n",
    "for track_id in spot_data.TRACK_ID.unique()[:10]:\n",
    "    sel = spot_data.TRACK_ID == track_id\n",
    "    spot_data_ = spot_data[sel]\n",
    "    spot_data_.sort_values('time_delta_min')\n",
    "    ax.plot(spot_data_.time_delta_min, spot_data_.POSITION_Y)\n",
    "    ax.set_ylabel('Position y [vox]')\n",
    "    ax.set_xlabel('Time [min]')"
   ]
  },
  {
   "cell_type": "code",
   "execution_count": null,
   "id": "floppy-coach",
   "metadata": {},
   "outputs": [],
   "source": [
    "spot_data.TRACK_ID.unique()"
   ]
  },
  {
   "cell_type": "code",
   "execution_count": null,
   "id": "danish-candle",
   "metadata": {},
   "outputs": [],
   "source": [
    "spot_data"
   ]
  },
  {
   "cell_type": "code",
   "execution_count": null,
   "id": "helpful-consideration",
   "metadata": {},
   "outputs": [],
   "source": [
    "spot_data.to_csv('tracked_spots.csv')"
   ]
  },
  {
   "cell_type": "code",
   "execution_count": null,
   "id": "documented-hazard",
   "metadata": {},
   "outputs": [],
   "source": []
  }
 ],
 "metadata": {
  "kernelspec": {
   "display_name": "Python 3",
   "language": "python",
   "name": "python3"
  },
  "language_info": {
   "codemirror_mode": {
    "name": "ipython",
    "version": 3
   },
   "file_extension": ".py",
   "mimetype": "text/x-python",
   "name": "python",
   "nbconvert_exporter": "python",
   "pygments_lexer": "ipython3",
   "version": "3.7.10"
  }
 },
 "nbformat": 4,
 "nbformat_minor": 5
}
