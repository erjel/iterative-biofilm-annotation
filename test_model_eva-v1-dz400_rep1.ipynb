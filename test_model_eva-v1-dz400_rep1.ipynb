{
 "cells": [
  {
   "cell_type": "code",
   "execution_count": 1,
   "id": "criminal-ozone",
   "metadata": {},
   "outputs": [],
   "source": [
    "from tifffile import imread\n",
    "import numpy as np\n",
    "from stardist.models import StarDist3D\n",
    "from pathlib import Path\n",
    "\n",
    "import matplotlib.pyplot as plt\n",
    "\n",
    "from csbdeep.utils import normalize\n",
    "\n",
    "from tqdm import tqdm\n"
   ]
  },
  {
   "cell_type": "code",
   "execution_count": 2,
   "id": "normal-freight",
   "metadata": {},
   "outputs": [],
   "source": [
    "import sys\n",
    "sys.path.append('C:/Users/Eric/src/stardist_mpcdf')\n",
    "from stardist_mpcdf.data import writeDatasetFolders, ImageInterpolation"
   ]
  },
  {
   "cell_type": "code",
   "execution_count": 3,
   "id": "automotive-ministry",
   "metadata": {},
   "outputs": [],
   "source": [
    "def allocateOnEmptyGPU():\n",
    "    import os\n",
    "    import re\n",
    "    import numpy as np\n",
    "    from subprocess import check_output\n",
    "\n",
    "    nvidia_smi_output = check_output(['nvidia-smi']).decode(\"utf-8\")\n",
    "    memory_matches = re.findall('\\d+MiB\\s*/\\s*\\d+MiB', nvidia_smi_output)\n",
    "    memory_string = [match.split('MiB')[0] for match in memory_matches]\n",
    "    gpu_memory_usage = list(map(int, memory_string))\n",
    "\n",
    "    os.environ['CUDA_VISIBLE_DEVICES'] = str(np.argmin(gpu_memory_usage))\n",
    "    print('Run on GPU with ID: {}'.format(os.environ['CUDA_VISIBLE_DEVICES']))\n",
    "\n",
    "    return"
   ]
  },
  {
   "cell_type": "code",
   "execution_count": 4,
   "id": "average-photography",
   "metadata": {},
   "outputs": [
    {
     "name": "stdout",
     "output_type": "stream",
     "text": [
      "Run on GPU with ID: 1\n"
     ]
    }
   ],
   "source": [
    "allocateOnEmptyGPU()"
   ]
  },
  {
   "cell_type": "code",
   "execution_count": 5,
   "id": "recognized-interview",
   "metadata": {},
   "outputs": [],
   "source": [
    "X_test_filenames = sorted(Path(r'Y:\\Eric\\2021_Iterative_Biofilm_Annotation\\datasets\\eva-v1-dz400\\test\\images').glob('*.tif'))"
   ]
  },
  {
   "cell_type": "code",
   "execution_count": 6,
   "id": "fantastic-detective",
   "metadata": {},
   "outputs": [],
   "source": [
    "Y_test_filenames = sorted(Path(r'Y:\\Eric\\2021_Iterative_Biofilm_Annotation\\datasets\\eva-v1-dz400\\test\\masks').glob('*.tif'))"
   ]
  },
  {
   "cell_type": "code",
   "execution_count": 7,
   "id": "recorded-amber",
   "metadata": {},
   "outputs": [
    {
     "data": {
      "text/plain": [
       "[WindowsPath('Y:/Eric/2021_Iterative_Biofilm_Annotation/datasets/eva-v1-dz400/test/images/im0.tif')]"
      ]
     },
     "execution_count": 7,
     "metadata": {},
     "output_type": "execute_result"
    }
   ],
   "source": [
    "X_test_filenames"
   ]
  },
  {
   "cell_type": "code",
   "execution_count": 8,
   "id": "searching-softball",
   "metadata": {},
   "outputs": [
    {
     "data": {
      "text/plain": [
       "[WindowsPath('Y:/Eric/2021_Iterative_Biofilm_Annotation/datasets/eva-v1-dz400/test/masks/im0.tif')]"
      ]
     },
     "execution_count": 8,
     "metadata": {},
     "output_type": "execute_result"
    }
   ],
   "source": [
    "Y_test_filenames"
   ]
  },
  {
   "cell_type": "code",
   "execution_count": 9,
   "id": "abroad-adaptation",
   "metadata": {},
   "outputs": [],
   "source": [
    "X_test = [imread(x) for x in X_test_filenames]"
   ]
  },
  {
   "cell_type": "code",
   "execution_count": 10,
   "id": "selective-committee",
   "metadata": {},
   "outputs": [],
   "source": [
    "Y_test = [imread(y) for y in Y_test_filenames]"
   ]
  },
  {
   "cell_type": "markdown",
   "id": "elder-failing",
   "metadata": {},
   "source": [
    "# Interpolation"
   ]
  },
  {
   "cell_type": "code",
   "execution_count": 11,
   "id": "solved-opportunity",
   "metadata": {},
   "outputs": [],
   "source": [
    "dz = 400"
   ]
  },
  {
   "cell_type": "code",
   "execution_count": 12,
   "id": "stuck-calgary",
   "metadata": {},
   "outputs": [],
   "source": [
    "if not dz is None:\n",
    "    factor = int(dz/100)\n",
    "    X = [ImageInterpolation(x[::factor], factor, x.shape) for x in X_test]"
   ]
  },
  {
   "cell_type": "code",
   "execution_count": 13,
   "id": "disturbed-communication",
   "metadata": {},
   "outputs": [
    {
     "name": "stderr",
     "output_type": "stream",
     "text": [
      "100%|████████████████████████████████████████████████████████████████████████████████████| 1/1 [00:00<00:00,  3.15it/s]\n"
     ]
    }
   ],
   "source": [
    "axis_norm = (0, 1, 2)\n",
    "Y_test= [normalize(x, 1, 99.8, axis=axis_norm) for x in tqdm(Y_test)]"
   ]
  },
  {
   "cell_type": "code",
   "execution_count": 14,
   "id": "alien-luxury",
   "metadata": {},
   "outputs": [
    {
     "name": "stdout",
     "output_type": "stream",
     "text": [
      "Loading network weights from 'weights_best.h5'.\n",
      "Loading thresholds from 'thresholds.json'.\n",
      "Using default values: prob_thresh=0.763609, nms_thresh=0.3.\n"
     ]
    }
   ],
   "source": [
    "model = StarDist3D(None, name='eva-v1_dz400_rep1', basedir='models')"
   ]
  },
  {
   "cell_type": "code",
   "execution_count": 15,
   "id": "varied-trout",
   "metadata": {},
   "outputs": [],
   "source": [
    "max_size = 126 # for 11GB GPU\n",
    "overlap_label = None"
   ]
  },
  {
   "cell_type": "code",
   "execution_count": null,
   "id": "standard-canadian",
   "metadata": {},
   "outputs": [
    {
     "name": "stderr",
     "output_type": "stream",
     "text": [
      "\r",
      "  0%|                                                                                            | 0/1 [00:00<?, ?it/s]"
     ]
    },
    {
     "name": "stdout",
     "output_type": "stream",
     "text": [
      "Dataset shape:  (176, 543, 526)\n",
      "Dataset size:  50268768\n",
      "Num tiles:  (1, 4, 4)\n"
     ]
    },
    {
     "name": "stderr",
     "output_type": "stream",
     "text": [
      "\n",
      "  0%|                                                                                           | 0/16 [00:00<?, ?it/s]\u001b[A\n",
      "  6%|█████▏                                                                             | 1/16 [00:04<01:02,  4.15s/it]\u001b[A\n",
      " 12%|██████████▍                                                                        | 2/16 [00:06<00:49,  3.53s/it]\u001b[A\n",
      " 19%|███████████████▌                                                                   | 3/16 [00:08<00:40,  3.08s/it]\u001b[A\n",
      " 25%|████████████████████▊                                                              | 4/16 [00:10<00:33,  2.80s/it]\u001b[A\n",
      " 31%|█████████████████████████▉                                                         | 5/16 [00:12<00:28,  2.59s/it]\u001b[A\n",
      " 38%|███████████████████████████████▏                                                   | 6/16 [00:14<00:24,  2.43s/it]\u001b[A\n",
      " 44%|████████████████████████████████████▎                                              | 7/16 [00:16<00:20,  2.32s/it]\u001b[A\n",
      " 50%|█████████████████████████████████████████▌                                         | 8/16 [00:18<00:18,  2.27s/it]\u001b[A\n",
      " 56%|██████████████████████████████████████████████▋                                    | 9/16 [00:20<00:15,  2.22s/it]\u001b[A\n",
      " 62%|███████████████████████████████████████████████████▎                              | 10/16 [00:22<00:13,  2.17s/it]\u001b[A\n",
      " 69%|████████████████████████████████████████████████████████▍                         | 11/16 [00:25<00:10,  2.14s/it]\u001b[A\n",
      " 75%|█████████████████████████████████████████████████████████████▌                    | 12/16 [00:27<00:08,  2.12s/it]\u001b[A\n",
      " 81%|██████████████████████████████████████████████████████████████████▋               | 13/16 [00:29<00:06,  2.13s/it]\u001b[A\n",
      " 88%|███████████████████████████████████████████████████████████████████████▊          | 14/16 [00:31<00:04,  2.12s/it]\u001b[A\n",
      " 94%|████████████████████████████████████████████████████████████████████████████▉     | 15/16 [00:33<00:02,  2.09s/it]\u001b[A\n",
      "100%|██████████████████████████████████████████████████████████████████████████████████| 16/16 [00:35<00:00,  2.21s/it]\u001b[A\n"
     ]
    },
    {
     "name": "stdout",
     "output_type": "stream",
     "text": [
      "predicting instances with prob_thresh = 0.7636087892716845 and nms_thresh = 0.3\n",
      "found 484082 candidates\n"
     ]
    }
   ],
   "source": [
    "Y_ = []\n",
    "for x in tqdm(X_test):\n",
    "    print('Dataset shape: ', x.shape)\n",
    "    print('Dataset size: ', np.size(x))\n",
    "\n",
    "    if np.size(x) <= max_size**3: # Limited by 16GB GPU\n",
    "        y_ = model.predict_instances(x, verbose=True, overlap_label=overlap_label)[0]\n",
    "\n",
    "    else:\n",
    "        n_tiles = tuple(np.max([1, s//max_size]) for s in x.shape)\n",
    "        print('Num tiles: ', n_tiles)\n",
    "        y_ = model.predict_instances(x, verbose=True, overlap_label=overlap_label,\n",
    "                                     n_tiles=n_tiles)[0]\n",
    "\n",
    "    Y_.append(y_)\n"
   ]
  },
  {
   "cell_type": "code",
   "execution_count": null,
   "id": "typical-constitution",
   "metadata": {},
   "outputs": [],
   "source": [
    "from tifffile import imsave"
   ]
  },
  {
   "cell_type": "code",
   "execution_count": null,
   "id": "innovative-florida",
   "metadata": {},
   "outputs": [],
   "source": [
    "imsave(Y_[0], 'test.tif')"
   ]
  },
  {
   "cell_type": "code",
   "execution_count": null,
   "id": "civilian-polymer",
   "metadata": {},
   "outputs": [],
   "source": []
  }
 ],
 "metadata": {
  "kernelspec": {
   "display_name": "Python 3",
   "language": "python",
   "name": "python3"
  },
  "language_info": {
   "codemirror_mode": {
    "name": "ipython",
    "version": 3
   },
   "file_extension": ".py",
   "mimetype": "text/x-python",
   "name": "python",
   "nbconvert_exporter": "python",
   "pygments_lexer": "ipython3",
   "version": "3.7.9"
  }
 },
 "nbformat": 4,
 "nbformat_minor": 5
}
