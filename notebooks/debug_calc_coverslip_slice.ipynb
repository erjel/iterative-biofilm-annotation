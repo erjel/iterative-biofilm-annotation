{
 "cells": [
  {
   "cell_type": "code",
   "execution_count": null,
   "metadata": {},
   "outputs": [],
   "source": [
    "from tifffile import imread, TiffFile\n",
    "import numpy as np\n",
    "import matplotlib.pyplot as plt\n",
    "from pathlib import Path\n",
    "from tqdm import tqdm\n",
    "import pandas as pd\n",
    "import concurrent"
   ]
  },
  {
   "cell_type": "code",
   "execution_count": null,
   "metadata": {},
   "outputs": [],
   "source": [
    "np.random.randint(10000)"
   ]
  },
  {
   "cell_type": "code",
   "execution_count": null,
   "metadata": {},
   "outputs": [],
   "source": [
    "np.random.seed(4409)"
   ]
  },
  {
   "cell_type": "code",
   "execution_count": null,
   "metadata": {},
   "outputs": [],
   "source": [
    "basepath = Path('Y:\\Eva\\CARE')\n",
    "\n",
    "dirlist = ['08.12.20_14h',\n",
    "           '08.12.20_19h',\n",
    "           '08.12.20_24h',\n",
    "           '09.12.20_14h']"
   ]
  },
  {
   "cell_type": "code",
   "execution_count": null,
   "metadata": {},
   "outputs": [],
   "source": [
    "p = Path(basepath)\n",
    "pattern = 'Pos*/*_ch1_*.tif*'\n",
    "min_z=16\n",
    "from posixpath import join\n",
    "lowChannel='ch2'\n",
    "gtChannel='ch1'\n",
    "\n",
    "image_paths = [f.parts for d in dirlist for f in ( p / d ).glob(pattern)]\n",
    "\n",
    "z_heights = [int(parts[-1].split('Nz')[-1].split('.tif')[0]) for parts in image_paths]\n",
    "\n",
    "source_paths = [join(*parts[:-1], parts[-1].replace(gtChannel, lowChannel)) for parts, Nz in zip(image_paths, z_heights) if Nz >= min_z ]"
   ]
  },
  {
   "cell_type": "code",
   "execution_count": null,
   "metadata": {},
   "outputs": [],
   "source": [
    "std_output_path = 'debug/z_standard_deviations.csv'\n",
    "argmax_output_path = 'debug/argmax.csv'"
   ]
  },
  {
   "cell_type": "code",
   "execution_count": null,
   "metadata": {},
   "outputs": [],
   "source": [
    "if not Path(std_output_path).is_file():\n",
    "\n",
    "    def compute_mean_std_prctile(path):\n",
    "        im = imread(str(path))\n",
    "        # Cut away overview plane and do not care about std values higher than 20 planes\n",
    "        im = im[1:21]\n",
    "\n",
    "        im_ = im.reshape(-1, 1024*1024)\n",
    "        # The threshold is required due to 'hot pixels' which occure in 1:10 of all stacks\n",
    "        threshs = np.percentile(im_, 99.99, axis=1, keepdims=True)\n",
    "        im_ = im_.astype('float')\n",
    "        im_[im_>threshs] = np.nan\n",
    "\n",
    "        return np.nanstd(im_, axis=1)\n",
    "\n",
    "    with concurrent.futures.ThreadPoolExecutor() as executor:\n",
    "        futures = [executor.submit(compute_mean_std_prctile, p) for p in source_paths]\n",
    "        concurrent.futures.wait(futures)\n",
    "\n",
    "    stds = [f.result()  for f in futures]\n",
    "    \n",
    "    \"\"\"# Simple alternative:\n",
    "    stds = []\n",
    "\n",
    "    for p in tqdm(source_paths):\n",
    "        im = imread(str(p))\n",
    "        im = im[1:]\n",
    "        im_ = im.reshape(-1, 1024*1024)\n",
    "        threshs = np.percentile(im_, 99.99, axis=1, keepdims=True)\n",
    "        im_ = im_.astype('float')\n",
    "        im_[im_>threshs] = np.nan\n",
    "        stds.append(np.nanstd(im_, axis=1))\n",
    "    \"\"\"\n",
    "    \n",
    "    \n",
    "    stds = np.array(stds)\n",
    "    np.savetxt(std_output_path, stds)\n",
    "else:\n",
    "    stds = np.genfromtxt(std_output_path)\n",
    "    "
   ]
  },
  {
   "cell_type": "code",
   "execution_count": null,
   "metadata": {},
   "outputs": [],
   "source": [
    "# Based on the shape of the standard deviation per slice, we expect:\n",
    "# - a steep increase for the first slices\n",
    "# - a peak\n",
    "# - a slow decrease\n",
    "# The end of the steep increase can be spot by linearly extrapolating the expected standard deviation.\n",
    "# The first value which is below the measured value, the standard deviation did not increase as much as expected.\n",
    "# So we are close to the peak.\n",
    "\n",
    "stds_argmax = []\n",
    "for std in stds:\n",
    "    intpl = std[0:-2] + 2*np.diff(std[:-1])\n",
    "\n",
    "    # + 2 is necessary since we can start comparing only after the second std measurement\n",
    "    # So the stds_argmax is the true index in the stack (without the overview plane)\n",
    "    stds_argmax.append(np.argwhere(intpl - std[2:] > 0)[0, 0] + 2)\n",
    "    \n",
    "plt.hist(stds_argmax);"
   ]
  },
  {
   "cell_type": "code",
   "execution_count": null,
   "metadata": {},
   "outputs": [],
   "source": [
    "df = pd.DataFrame(np.asarray([source_paths, stds_argmax]).transpose(), columns=['Path', 'std_argmax'])"
   ]
  },
  {
   "cell_type": "code",
   "execution_count": null,
   "metadata": {},
   "outputs": [],
   "source": [
    "df = df.astype({'Path':'str', 'std_argmax':'uint8'})"
   ]
  },
  {
   "cell_type": "code",
   "execution_count": null,
   "metadata": {},
   "outputs": [],
   "source": [
    "df"
   ]
  },
  {
   "cell_type": "code",
   "execution_count": null,
   "metadata": {},
   "outputs": [],
   "source": [
    "df.to_csv(argmax_output_path)"
   ]
  },
  {
   "cell_type": "markdown",
   "metadata": {},
   "source": [
    "# Control results"
   ]
  },
  {
   "cell_type": "code",
   "execution_count": null,
   "metadata": {},
   "outputs": [],
   "source": [
    "from tifffile import TiffFile\n",
    "\n",
    "def readTiffPage(path, i):\n",
    "    with TiffFile(path) as tif:\n",
    "        return tif.pages[i].asarray()"
   ]
  },
  {
   "cell_type": "code",
   "execution_count": null,
   "metadata": {},
   "outputs": [],
   "source": [
    "order = np.argsort(stds_argmax)\n",
    "source_paths_ordered = [source_paths[i] for i in order]\n",
    "stds_max_ordered = [stds_argmax[i] for i in order]\n",
    "stds_ordered = stds[order]"
   ]
  },
  {
   "cell_type": "code",
   "execution_count": null,
   "metadata": {},
   "outputs": [],
   "source": [
    "n = 10\n",
    "m = 5"
   ]
  },
  {
   "cell_type": "code",
   "execution_count": null,
   "metadata": {
    "scrolled": false
   },
   "outputs": [],
   "source": [
    "f, axes = plt.subplots(n, m, figsize=(15, 30))\n",
    "\n",
    "for p, idx, ax in zip(source_paths_ordered[-n*m:], stds_max_ordered[-n*m:], axes.flat):\n",
    "    im = readTiffPage(Path(p), idx+2)\n",
    "    ax.imshow(im)\n",
    "    ax.set_title(str(idx))\n",
    "    ax.set_xticks([])\n",
    "    ax.set_yticks([])\n",
    "    \n",
    "plt.tight_layout()"
   ]
  },
  {
   "cell_type": "code",
   "execution_count": null,
   "metadata": {
    "scrolled": false
   },
   "outputs": [],
   "source": [
    "f, axes = plt.subplots(n, m, figsize=(15, 30))\n",
    "\n",
    "for p, idx, ax in zip(source_paths_ordered[:n*m], stds_max_ordered[:n*m], axes.flat):\n",
    "    im = readTiffPage(Path(p), idx+2)\n",
    "    ax.imshow(im)\n",
    "    ax.set_title(str(idx))\n",
    "    ax.set_xticks([])\n",
    "    ax.set_yticks([])\n",
    "    \n",
    "plt.tight_layout()"
   ]
  },
  {
   "cell_type": "code",
   "execution_count": null,
   "metadata": {
    "scrolled": false
   },
   "outputs": [],
   "source": [
    "f, axes = plt.subplots(n, m, figsize=(15, 30))\n",
    "\n",
    "for std, idx, ax in zip(stds_ordered[-n*m:], stds_max_ordered[-n*m:], axes.flat):\n",
    "    ax.plot(std)\n",
    "    \n",
    "    ax.set_title(str(idx))\n",
    "    \n",
    "plt.tight_layout()"
   ]
  },
  {
   "cell_type": "code",
   "execution_count": null,
   "metadata": {
    "scrolled": false
   },
   "outputs": [],
   "source": [
    "f, axes = plt.subplots(n, m, figsize=(15, 30))\n",
    "\n",
    "for std, idx, ax in zip(stds_ordered[:n*m], stds_max_ordered[:n*m], axes.flat):\n",
    "    ax.plot(std)\n",
    "    \n",
    "    ax.set_title(str(idx))\n",
    "    \n",
    "plt.tight_layout()"
   ]
  }
 ],
 "metadata": {
  "kernelspec": {
   "display_name": "Python 3",
   "language": "python",
   "name": "python3"
  },
  "language_info": {
   "codemirror_mode": {
    "name": "ipython",
    "version": 3
   },
   "file_extension": ".py",
   "mimetype": "text/x-python",
   "name": "python",
   "nbconvert_exporter": "python",
   "pygments_lexer": "ipython3",
   "version": "3.8.5"
  }
 },
 "nbformat": 4,
 "nbformat_minor": 4
}
