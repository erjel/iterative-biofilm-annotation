{
 "cells": [
  {
   "cell_type": "code",
   "execution_count": null,
   "id": "functioning-capitol",
   "metadata": {},
   "outputs": [],
   "source": []
  },
  {
   "cell_type": "code",
   "execution_count": 10,
   "id": "heard-islam",
   "metadata": {},
   "outputs": [],
   "source": [
    "from tifffile import imread\n",
    "import numpy as np"
   ]
  },
  {
   "cell_type": "code",
   "execution_count": 2,
   "id": "exposed-fiber",
   "metadata": {},
   "outputs": [],
   "source": [
    "from scipy.ndimage import affine_transform"
   ]
  },
  {
   "cell_type": "code",
   "execution_count": 12,
   "id": "medium-beginning",
   "metadata": {},
   "outputs": [],
   "source": [
    "def ImageInterpolation(image, d, new_shape):\n",
    "\n",
    "    trans_matrix = np.diag([1/d, 1, 1])\n",
    "    rescaled = affine_transform(image, trans_matrix, output_shape=new_shape, order=1)\n",
    "\n",
    "    return rescaled"
   ]
  },
  {
   "cell_type": "code",
   "execution_count": 7,
   "id": "vital-mapping",
   "metadata": {},
   "outputs": [],
   "source": [
    "x = imread(r\"Y:\\Daniel\\000_Microscope data\\2020.09.15_CNN3\\kdv1502R_5L_30ms_300gain002\\Pos5\\kdv1502R_5L_30ms_300gain002_pos5_ch1_frame000001_Nz54.tif\")\n",
    "x = x[1:]"
   ]
  },
  {
   "cell_type": "code",
   "execution_count": 8,
   "id": "documentary-street",
   "metadata": {},
   "outputs": [],
   "source": [
    "    dz = 400\n",
    "    factor = int(dz/100)    \n",
    "    "
   ]
  },
  {
   "cell_type": "code",
   "execution_count": null,
   "id": "radical-beverage",
   "metadata": {},
   "outputs": [],
   "source": [
    "# order = 3"
   ]
  },
  {
   "cell_type": "code",
   "execution_count": 11,
   "id": "sharp-regulation",
   "metadata": {},
   "outputs": [
    {
     "name": "stdout",
     "output_type": "stream",
     "text": [
      "1min 31s ± 2.04 s per loop (mean ± std. dev. of 7 runs, 1 loop each)\n"
     ]
    }
   ],
   "source": [
    "%%timeit            \n",
    "new_shape = (x.shape[0]*factor ,  *x.shape[1:])\n",
    "x_ = ImageInterpolation(x, factor, new_shape)         "
   ]
  },
  {
   "cell_type": "code",
   "execution_count": null,
   "id": "impaired-daisy",
   "metadata": {},
   "outputs": [],
   "source": [
    "# order = 1"
   ]
  },
  {
   "cell_type": "code",
   "execution_count": 13,
   "id": "thrown-trigger",
   "metadata": {},
   "outputs": [
    {
     "name": "stdout",
     "output_type": "stream",
     "text": [
      "25.3 s ± 790 ms per loop (mean ± std. dev. of 7 runs, 1 loop each)\n"
     ]
    }
   ],
   "source": [
    "%%timeit            \n",
    "new_shape = (x.shape[0]*factor ,  *x.shape[1:])\n",
    "x_ = ImageInterpolation(x, factor, new_shape)  "
   ]
  },
  {
   "cell_type": "markdown",
   "id": "economic-relief",
   "metadata": {},
   "source": [
    "Clatlab linear interpolation:\n",
    "Elapsed time is 59.197928 seconds."
   ]
  },
  {
   "cell_type": "code",
   "execution_count": null,
   "id": "alone-bidding",
   "metadata": {},
   "outputs": [],
   "source": [
    "Matlab linear interpolation:\n",
    "3.884782 seconds."
   ]
  },
  {
   "cell_type": "code",
   "execution_count": null,
   "id": "hairy-living",
   "metadata": {},
   "outputs": [],
   "source": [
    "Including reading and writing:\n",
    "Elapsed time is 9.144407 seconds."
   ]
  },
  {
   "cell_type": "code",
   "execution_count": null,
   "id": "stylish-shower",
   "metadata": {},
   "outputs": [],
   "source": [
    "For cubic interpolation (including IO):\n",
    "Elapsed time is 17.994675 seconds."
   ]
  }
 ],
 "metadata": {
  "kernelspec": {
   "display_name": "Python 3",
   "language": "python",
   "name": "python3"
  },
  "language_info": {
   "codemirror_mode": {
    "name": "ipython",
    "version": 3
   },
   "file_extension": ".py",
   "mimetype": "text/x-python",
   "name": "python",
   "nbconvert_exporter": "python",
   "pygments_lexer": "ipython3",
   "version": "3.8.6"
  }
 },
 "nbformat": 4,
 "nbformat_minor": 5
}
