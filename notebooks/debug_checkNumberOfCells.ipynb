{
 "cells": [
  {
   "cell_type": "code",
   "execution_count": 7,
   "id": "determined-exclusion",
   "metadata": {},
   "outputs": [],
   "source": [
    "from tifffile import imread\n",
    "\n",
    "from pathlib import Path\n",
    "import numpy as np\n",
    "from tqdm import tqdm"
   ]
  },
  {
   "cell_type": "code",
   "execution_count": 5,
   "id": "medieval-verse",
   "metadata": {},
   "outputs": [],
   "source": [
    "y = sorted(Path(r'Y:\\Eric\\2021_Iterative_Biofilm_Annotation\\datasets\\eva-v1-dz100').glob('**\\masks\\*.tif'))"
   ]
  },
  {
   "cell_type": "code",
   "execution_count": 6,
   "id": "extensive-temple",
   "metadata": {},
   "outputs": [
    {
     "data": {
      "text/plain": [
       "[WindowsPath('Y:/Eric/2021_Iterative_Biofilm_Annotation/datasets/eva-v1-dz100/test/masks/im0.tif'),\n",
       " WindowsPath('Y:/Eric/2021_Iterative_Biofilm_Annotation/datasets/eva-v1-dz100/train/masks/im0.tif'),\n",
       " WindowsPath('Y:/Eric/2021_Iterative_Biofilm_Annotation/datasets/eva-v1-dz100/train/masks/im1.tif'),\n",
       " WindowsPath('Y:/Eric/2021_Iterative_Biofilm_Annotation/datasets/eva-v1-dz100/train/masks/im2.tif'),\n",
       " WindowsPath('Y:/Eric/2021_Iterative_Biofilm_Annotation/datasets/eva-v1-dz100/train/masks/im3.tif'),\n",
       " WindowsPath('Y:/Eric/2021_Iterative_Biofilm_Annotation/datasets/eva-v1-dz100/train/masks/im4.tif'),\n",
       " WindowsPath('Y:/Eric/2021_Iterative_Biofilm_Annotation/datasets/eva-v1-dz100/train/masks/im5.tif'),\n",
       " WindowsPath('Y:/Eric/2021_Iterative_Biofilm_Annotation/datasets/eva-v1-dz100/train/masks/im6.tif'),\n",
       " WindowsPath('Y:/Eric/2021_Iterative_Biofilm_Annotation/datasets/eva-v1-dz100/valid/masks/im0.tif')]"
      ]
     },
     "execution_count": 6,
     "metadata": {},
     "output_type": "execute_result"
    }
   ],
   "source": [
    "y"
   ]
  },
  {
   "cell_type": "code",
   "execution_count": 9,
   "id": "impaired-winner",
   "metadata": {},
   "outputs": [
    {
     "name": "stderr",
     "output_type": "stream",
     "text": [
      "100%|████████████████████████████████████████████████████████████████████████████████████| 9/9 [00:04<00:00,  1.95it/s]\n"
     ]
    }
   ],
   "source": [
    "counter = 0\n",
    "for y_ in tqdm(y):\n",
    "    Y = imread(str(y_))\n",
    "    counter += len(np.unique(Y))\n"
   ]
  },
  {
   "cell_type": "code",
   "execution_count": 10,
   "id": "atomic-dryer",
   "metadata": {},
   "outputs": [
    {
     "data": {
      "text/plain": [
       "5560"
      ]
     },
     "execution_count": 10,
     "metadata": {},
     "output_type": "execute_result"
    }
   ],
   "source": [
    "counter"
   ]
  },
  {
   "cell_type": "code",
   "execution_count": null,
   "id": "familiar-theme",
   "metadata": {},
   "outputs": [],
   "source": []
  }
 ],
 "metadata": {
  "kernelspec": {
   "display_name": "Python 3",
   "language": "python",
   "name": "python3"
  },
  "language_info": {
   "codemirror_mode": {
    "name": "ipython",
    "version": 3
   },
   "file_extension": ".py",
   "mimetype": "text/x-python",
   "name": "python",
   "nbconvert_exporter": "python",
   "pygments_lexer": "ipython3",
   "version": "3.7.9"
  }
 },
 "nbformat": 4,
 "nbformat_minor": 5
}
