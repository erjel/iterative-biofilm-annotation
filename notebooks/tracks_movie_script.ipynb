{
 "cells": [
  {
   "cell_type": "markdown",
   "metadata": {},
   "source": [
    "# Movie based on a script\n",
    "Guillaume Witz, Science IT Support, Microscopy Imaging Center, Bern University"
   ]
  },
  {
   "cell_type": "markdown",
   "metadata": {},
   "source": [
    "## Import packages and data"
   ]
  },
  {
   "cell_type": "code",
   "execution_count": null,
   "metadata": {},
   "outputs": [],
   "source": [
    "import numpy as np\n",
    "import napari\n",
    "from naparimovie import Movie\n",
    "%gui qt5"
   ]
  },
  {
   "cell_type": "code",
   "execution_count": null,
   "metadata": {},
   "outputs": [],
   "source": [
    "tracks_file = r\"Y:\\Eric\\prediction_test\\test.csv\""
   ]
  },
  {
   "cell_type": "code",
   "execution_count": null,
   "metadata": {},
   "outputs": [],
   "source": [
    "tracks = np.genfromtxt(tracks_file, delimiter=',')"
   ]
  },
  {
   "cell_type": "code",
   "execution_count": null,
   "metadata": {},
   "outputs": [],
   "source": [
    "tracks.astype('int')"
   ]
  },
  {
   "cell_type": "code",
   "execution_count": null,
   "metadata": {},
   "outputs": [],
   "source": [
    "tracks[:, -3] = -tracks[:, -3]"
   ]
  },
  {
   "cell_type": "markdown",
   "metadata": {},
   "source": [
    "## Create napari viewer and movie object"
   ]
  },
  {
   "cell_type": "code",
   "execution_count": null,
   "metadata": {},
   "outputs": [],
   "source": [
    "viewer = napari.Viewer(ndisplay=3)\n",
    "viewer.add_tracks(tracks, scale=(100,63,63), blending='opaque')\n",
    "movie = Movie(myviewer=viewer)"
   ]
  },
  {
   "cell_type": "markdown",
   "metadata": {},
   "source": [
    "## Create key-frames from a script"
   ]
  },
  {
   "cell_type": "markdown",
   "metadata": {},
   "source": [
    "This follows the ideas of the Fiji plugin [3Dscript](https://www.nature.com/articles/s41592-019-0359-1) where commands describing modifications of the viewed volume are implemented in a natural language. Two script examples are provided [here](moviecommands.txt) [here](moviecommands2.txt). Please read the 3Dscript documentation to understand how such scripts are written. At the moment you can use:\n",
    "\n",
    "- At frame ...\n",
    "- From frame x to frame y ... \n",
    "\n",
    "statements to specific the range of frames. The possible modifications (with example values) are:\n",
    "\n",
    "- zoom by a factor of 0.2\n",
    "- translate by (0,40,0)\n",
    "- rotate by 180 degrees around (1,0,0)\n",
    "- make layer 0 visible\n",
    "- make layer 0 invisible\n",
    "- shift time by 3\n",
    "- shift time by -45\n",
    "\n",
    "The \"time\" and \"make\" commands are specific to this implementation.\n",
    "\n",
    "Once the script is ready you can call it like this on your movie object:"
   ]
  },
  {
   "cell_type": "code",
   "execution_count": null,
   "metadata": {},
   "outputs": [],
   "source": [
    "movie.create_state_dict_from_script('tracks_movie_commands.txt')"
   ]
  },
  {
   "cell_type": "code",
   "execution_count": null,
   "metadata": {},
   "outputs": [],
   "source": [
    "assert(False) #adjust frame "
   ]
  },
  {
   "cell_type": "markdown",
   "metadata": {},
   "source": [
    "If you now go to the napari view, you can go through key frames as well as interpolated frames using the keys defined for the interactive view. Of course you can save the movie as before, as an mp4 or gif."
   ]
  },
  {
   "cell_type": "code",
   "execution_count": null,
   "metadata": {},
   "outputs": [],
   "source": [
    "movie.make_gif('tracks_movie.gif')"
   ]
  },
  {
   "cell_type": "code",
   "execution_count": null,
   "metadata": {},
   "outputs": [],
   "source": [
    "movie.make_movie('tracks_movie.mp4')"
   ]
  },
  {
   "cell_type": "code",
   "execution_count": null,
   "metadata": {},
   "outputs": [],
   "source": []
  }
 ],
 "metadata": {
  "kernelspec": {
   "display_name": "Python 3",
   "language": "python",
   "name": "python3"
  },
  "language_info": {
   "codemirror_mode": {
    "name": "ipython",
    "version": 3
   },
   "file_extension": ".py",
   "mimetype": "text/x-python",
   "name": "python",
   "nbconvert_exporter": "python",
   "pygments_lexer": "ipython3",
   "version": "3.7.9"
  },
  "toc": {
   "base_numbering": 1,
   "nav_menu": {},
   "number_sections": false,
   "sideBar": true,
   "skip_h1_title": false,
   "title_cell": "Table of Contents",
   "title_sidebar": "Contents",
   "toc_cell": false,
   "toc_position": {},
   "toc_section_display": true,
   "toc_window_display": true
  }
 },
 "nbformat": 4,
 "nbformat_minor": 2
}
