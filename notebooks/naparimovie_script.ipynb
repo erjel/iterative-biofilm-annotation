{
 "cells": [
  {
   "cell_type": "markdown",
   "metadata": {},
   "source": [
    "# Movie based on a script\n",
    "Guillaume Witz, Science IT Support, Microscopy Imaging Center, Bern University"
   ]
  },
  {
   "cell_type": "markdown",
   "metadata": {},
   "source": [
    "## Import packages and data"
   ]
  },
  {
   "cell_type": "code",
   "execution_count": 1,
   "metadata": {},
   "outputs": [],
   "source": [
    "import numpy as np\n",
    "import napari\n",
    "from naparimovie import Movie\n",
    "import dask_image.imread\n",
    "%gui qt5"
   ]
  },
  {
   "cell_type": "code",
   "execution_count": 2,
   "metadata": {},
   "outputs": [],
   "source": [
    "image = dask_image.imread.imread(r\"Y:\\Daniel\\000_Microscope data\\2020.09.15_CNN3\\kdv1502R_5L_30ms_300gain002\\Pos5\\*_ch1_*.tif\")"
   ]
  },
  {
   "cell_type": "code",
   "execution_count": 3,
   "metadata": {},
   "outputs": [],
   "source": [
    "image = image[:, -1:0:-1, ...]"
   ]
  },
  {
   "cell_type": "code",
   "execution_count": 4,
   "metadata": {},
   "outputs": [
    {
     "data": {
      "text/html": [
       "<table>\n",
       "<tr>\n",
       "<td>\n",
       "<table>\n",
       "  <thead>\n",
       "    <tr><td> </td><th> Array </th><th> Chunk </th></tr>\n",
       "  </thead>\n",
       "  <tbody>\n",
       "    <tr><th> Bytes </th><td> 12.91 GB </td> <td> 113.25 MB </td></tr>\n",
       "    <tr><th> Shape </th><td> (114, 54, 1024, 1024) </td> <td> (1, 54, 1024, 1024) </td></tr>\n",
       "    <tr><th> Count </th><td> 456 Tasks </td><td> 114 Chunks </td></tr>\n",
       "    <tr><th> Type </th><td> uint16 </td><td> numpy.ndarray </td></tr>\n",
       "  </tbody>\n",
       "</table>\n",
       "</td>\n",
       "<td>\n",
       "<svg width=\"408\" height=\"190\" style=\"stroke:rgb(0,0,0);stroke-width:1\" >\n",
       "\n",
       "  <!-- Horizontal lines -->\n",
       "  <line x1=\"0\" y1=\"0\" x2=\"39\" y2=\"0\" style=\"stroke-width:2\" />\n",
       "  <line x1=\"0\" y1=\"25\" x2=\"39\" y2=\"25\" style=\"stroke-width:2\" />\n",
       "\n",
       "  <!-- Vertical lines -->\n",
       "  <line x1=\"0\" y1=\"0\" x2=\"0\" y2=\"25\" style=\"stroke-width:2\" />\n",
       "  <line x1=\"1\" y1=\"0\" x2=\"1\" y2=\"25\" />\n",
       "  <line x1=\"2\" y1=\"0\" x2=\"2\" y2=\"25\" />\n",
       "  <line x1=\"3\" y1=\"0\" x2=\"3\" y2=\"25\" />\n",
       "  <line x1=\"4\" y1=\"0\" x2=\"4\" y2=\"25\" />\n",
       "  <line x1=\"5\" y1=\"0\" x2=\"5\" y2=\"25\" />\n",
       "  <line x1=\"7\" y1=\"0\" x2=\"7\" y2=\"25\" />\n",
       "  <line x1=\"8\" y1=\"0\" x2=\"8\" y2=\"25\" />\n",
       "  <line x1=\"9\" y1=\"0\" x2=\"9\" y2=\"25\" />\n",
       "  <line x1=\"10\" y1=\"0\" x2=\"10\" y2=\"25\" />\n",
       "  <line x1=\"12\" y1=\"0\" x2=\"12\" y2=\"25\" />\n",
       "  <line x1=\"13\" y1=\"0\" x2=\"13\" y2=\"25\" />\n",
       "  <line x1=\"14\" y1=\"0\" x2=\"14\" y2=\"25\" />\n",
       "  <line x1=\"15\" y1=\"0\" x2=\"15\" y2=\"25\" />\n",
       "  <line x1=\"16\" y1=\"0\" x2=\"16\" y2=\"25\" />\n",
       "  <line x1=\"18\" y1=\"0\" x2=\"18\" y2=\"25\" />\n",
       "  <line x1=\"19\" y1=\"0\" x2=\"19\" y2=\"25\" />\n",
       "  <line x1=\"20\" y1=\"0\" x2=\"20\" y2=\"25\" />\n",
       "  <line x1=\"21\" y1=\"0\" x2=\"21\" y2=\"25\" />\n",
       "  <line x1=\"23\" y1=\"0\" x2=\"23\" y2=\"25\" />\n",
       "  <line x1=\"24\" y1=\"0\" x2=\"24\" y2=\"25\" />\n",
       "  <line x1=\"25\" y1=\"0\" x2=\"25\" y2=\"25\" />\n",
       "  <line x1=\"26\" y1=\"0\" x2=\"26\" y2=\"25\" />\n",
       "  <line x1=\"27\" y1=\"0\" x2=\"27\" y2=\"25\" />\n",
       "  <line x1=\"29\" y1=\"0\" x2=\"29\" y2=\"25\" />\n",
       "  <line x1=\"30\" y1=\"0\" x2=\"30\" y2=\"25\" />\n",
       "  <line x1=\"31\" y1=\"0\" x2=\"31\" y2=\"25\" />\n",
       "  <line x1=\"32\" y1=\"0\" x2=\"32\" y2=\"25\" />\n",
       "  <line x1=\"34\" y1=\"0\" x2=\"34\" y2=\"25\" />\n",
       "  <line x1=\"35\" y1=\"0\" x2=\"35\" y2=\"25\" />\n",
       "  <line x1=\"36\" y1=\"0\" x2=\"36\" y2=\"25\" />\n",
       "  <line x1=\"37\" y1=\"0\" x2=\"37\" y2=\"25\" />\n",
       "  <line x1=\"39\" y1=\"0\" x2=\"39\" y2=\"25\" style=\"stroke-width:2\" />\n",
       "\n",
       "  <!-- Colored Rectangle -->\n",
       "  <polygon points=\"0.0,0.0 39.182767892903684,0.0 39.182767892903684,25.412616514582485 0.0,25.412616514582485\" style=\"fill:#8B4903A0;stroke-width:0\"/>\n",
       "\n",
       "  <!-- Text -->\n",
       "  <text x=\"19.591384\" y=\"45.412617\" font-size=\"1.0rem\" font-weight=\"100\" text-anchor=\"middle\" >114</text>\n",
       "  <text x=\"59.182768\" y=\"12.706308\" font-size=\"1.0rem\" font-weight=\"100\" text-anchor=\"middle\" transform=\"rotate(0,59.182768,12.706308)\">1</text>\n",
       "\n",
       "\n",
       "  <!-- Horizontal lines -->\n",
       "  <line x1=\"109\" y1=\"0\" x2=\"129\" y2=\"20\" style=\"stroke-width:2\" />\n",
       "  <line x1=\"109\" y1=\"120\" x2=\"129\" y2=\"140\" style=\"stroke-width:2\" />\n",
       "\n",
       "  <!-- Vertical lines -->\n",
       "  <line x1=\"109\" y1=\"0\" x2=\"109\" y2=\"120\" style=\"stroke-width:2\" />\n",
       "  <line x1=\"129\" y1=\"20\" x2=\"129\" y2=\"140\" style=\"stroke-width:2\" />\n",
       "\n",
       "  <!-- Colored Rectangle -->\n",
       "  <polygon points=\"109.0,0.0 129.48632121282168,20.486321212821693 129.48632121282168,140.48632121282168 109.0,120.0\" style=\"fill:#ECB172A0;stroke-width:0\"/>\n",
       "\n",
       "  <!-- Horizontal lines -->\n",
       "  <line x1=\"109\" y1=\"0\" x2=\"229\" y2=\"0\" style=\"stroke-width:2\" />\n",
       "  <line x1=\"129\" y1=\"20\" x2=\"249\" y2=\"20\" style=\"stroke-width:2\" />\n",
       "\n",
       "  <!-- Vertical lines -->\n",
       "  <line x1=\"109\" y1=\"0\" x2=\"129\" y2=\"20\" style=\"stroke-width:2\" />\n",
       "  <line x1=\"229\" y1=\"0\" x2=\"249\" y2=\"20\" style=\"stroke-width:2\" />\n",
       "\n",
       "  <!-- Colored Rectangle -->\n",
       "  <polygon points=\"109.0,0.0 229.0,0.0 249.48632121282168,20.486321212821693 129.48632121282168,20.486321212821693\" style=\"fill:#ECB172A0;stroke-width:0\"/>\n",
       "\n",
       "  <!-- Horizontal lines -->\n",
       "  <line x1=\"129\" y1=\"20\" x2=\"249\" y2=\"20\" style=\"stroke-width:2\" />\n",
       "  <line x1=\"129\" y1=\"140\" x2=\"249\" y2=\"140\" style=\"stroke-width:2\" />\n",
       "\n",
       "  <!-- Vertical lines -->\n",
       "  <line x1=\"129\" y1=\"20\" x2=\"129\" y2=\"140\" style=\"stroke-width:2\" />\n",
       "  <line x1=\"249\" y1=\"20\" x2=\"249\" y2=\"140\" style=\"stroke-width:2\" />\n",
       "\n",
       "  <!-- Colored Rectangle -->\n",
       "  <polygon points=\"129.48632121282168,20.486321212821693 249.48632121282168,20.486321212821693 249.48632121282168,140.48632121282168 129.48632121282168,140.48632121282168\" style=\"fill:#ECB172A0;stroke-width:0\"/>\n",
       "\n",
       "  <!-- Text -->\n",
       "  <text x=\"189.486321\" y=\"160.486321\" font-size=\"1.0rem\" font-weight=\"100\" text-anchor=\"middle\" >1024</text>\n",
       "  <text x=\"269.486321\" y=\"80.486321\" font-size=\"1.0rem\" font-weight=\"100\" text-anchor=\"middle\" transform=\"rotate(-90,269.486321,80.486321)\">1024</text>\n",
       "  <text x=\"109.243161\" y=\"150.243161\" font-size=\"1.0rem\" font-weight=\"100\" text-anchor=\"middle\" transform=\"rotate(45,109.243161,150.243161)\">54</text>\n",
       "</svg>\n",
       "</td>\n",
       "</tr>\n",
       "</table>"
      ],
      "text/plain": [
       "dask.array<getitem, shape=(114, 54, 1024, 1024), dtype=uint16, chunksize=(1, 54, 1024, 1024), chunktype=numpy.ndarray>"
      ]
     },
     "execution_count": 4,
     "metadata": {},
     "output_type": "execute_result"
    }
   ],
   "source": [
    "image"
   ]
  },
  {
   "cell_type": "markdown",
   "metadata": {},
   "source": [
    "## Create napari viewer and movie object"
   ]
  },
  {
   "cell_type": "code",
   "execution_count": null,
   "metadata": {},
   "outputs": [],
   "source": []
  },
  {
   "cell_type": "code",
   "execution_count": 5,
   "metadata": {},
   "outputs": [
    {
     "name": "stderr",
     "output_type": "stream",
     "text": [
      "WARNING: DirectWrite: CreateFontFaceFromHDC() failed (Indicates an error in an input file such as a font file.) for QFontDef(Family=\"8514oem\", pointsize=12, pixelsize=20, styleHint=5, weight=50, stretch=100, hintingPreference=0) LOGFONT(\"8514oem\", lfWidth=0, lfHeight=-20) dpi=144\n"
     ]
    },
    {
     "data": {
      "text/plain": [
       "<Image layer 'image' at 0x2086c107088>"
      ]
     },
     "execution_count": 5,
     "metadata": {},
     "output_type": "execute_result"
    }
   ],
   "source": [
    "viewer = napari.Viewer(ndisplay=3)\n",
    "viewer.add_image(image, scale=(400,63,63),  contrast_limits=[0,2000], multiscale=False, colormap = 'green')\n"
   ]
  },
  {
   "cell_type": "markdown",
   "metadata": {},
   "source": [
    "## Create key-frames from a script"
   ]
  },
  {
   "cell_type": "markdown",
   "metadata": {},
   "source": [
    "This follows the ideas of the Fiji plugin [3Dscript](https://www.nature.com/articles/s41592-019-0359-1) where commands describing modifications of the viewed volume are implemented in a natural language. Two script examples are provided [here](moviecommands.txt) [here](moviecommands2.txt). Please read the 3Dscript documentation to understand how such scripts are written. At the moment you can use:\n",
    "\n",
    "- At frame ...\n",
    "- From frame x to frame y ... \n",
    "\n",
    "statements to specific the range of frames. The possible modifications (with example values) are:\n",
    "\n",
    "- zoom by a factor of 0.2\n",
    "- translate by (0,40,0)\n",
    "- rotate by 180 degrees around (1,0,0)\n",
    "- make layer 0 visible\n",
    "- make layer 0 invisible\n",
    "- shift time by 3\n",
    "- shift time by -45\n",
    "\n",
    "The \"time\" and \"make\" commands are specific to this implementation.\n",
    "\n",
    "Once the script is ready you can call it like this on your movie object:"
   ]
  },
  {
   "cell_type": "code",
   "execution_count": 8,
   "metadata": {},
   "outputs": [],
   "source": [
    "movie = Movie(myviewer=viewer)"
   ]
  },
  {
   "cell_type": "code",
   "execution_count": 15,
   "metadata": {},
   "outputs": [
    {
     "name": "stderr",
     "output_type": "stream",
     "text": [
      "C:\\ProgramData\\Anaconda3\\envs\\napari_movie\\lib\\site-packages\\naparimovie\\scriptcommands.py:130: VisibleDeprecationWarning: Creating an ndarray from ragged nested sequences (which is a list-or-tuple of lists-or-tuples-or ndarrays with different lengths or shapes) is deprecated. If you meant to do this, you must specify 'dtype=object' when creating the ndarray\n",
      "  command_list = np.array(command_list)\n",
      "C:\\ProgramData\\Anaconda3\\envs\\napari_movie\\lib\\site-packages\\numpy\\core\\fromnumeric.py:87: VisibleDeprecationWarning: Creating an ndarray from ragged nested sequences (which is a list-or-tuple of lists-or-tuples-or ndarrays with different lengths or shapes) is deprecated. If you meant to do this, you must specify 'dtype=object' when creating the ndarray\n",
      "  return ufunc.reduce(obj, axis, dtype, out, **passkwargs)\n"
     ]
    }
   ],
   "source": [
    "movie.create_state_dict_from_script('moviecommands2.txt')"
   ]
  },
  {
   "cell_type": "code",
   "execution_count": 16,
   "metadata": {},
   "outputs": [
    {
     "data": {
      "text/plain": [
       "[{'frame': 0,\n",
       "  'rotate': <Quaternion object 0.707 + 0.707i + 0j + 0k>,\n",
       "  'translate': (32224.5, 32224.5, 10600.0),\n",
       "  'zoom': 67841.05263157896,\n",
       "  'vis': [True],\n",
       "  'time': 0.0},\n",
       " {'frame': 1,\n",
       "  'rotate': <Quaternion object 0.383 + 0.924i + 0j + 0k>,\n",
       "  'translate': [],\n",
       "  'zoom': [],\n",
       "  'vis': [],\n",
       "  'time': []},\n",
       " {'frame': 17,\n",
       "  'rotate': <Quaternion object -0.117 + 0.887i + -0.413j + 0.171k>,\n",
       "  'translate': [],\n",
       "  'zoom': [],\n",
       "  'vis': [],\n",
       "  'time': []},\n",
       " {'frame': 33,\n",
       "  'rotate': <Quaternion object -0.564 + 0.45i + -0.64j + 0.265k>,\n",
       "  'translate': [],\n",
       "  'zoom': [],\n",
       "  'vis': [],\n",
       "  'time': []},\n",
       " {'frame': 50,\n",
       "  'rotate': <Quaternion object -0.756 + -0.19i + -0.578j + 0.24k>,\n",
       "  'translate': [],\n",
       "  'zoom': [],\n",
       "  'vis': [],\n",
       "  'time': []},\n",
       " {'frame': 51,\n",
       "  'rotate': <Quaternion object -0.756 + -0.19i + -0.578j + 0.24k>,\n",
       "  'translate': [],\n",
       "  'zoom': [],\n",
       "  'vis': [],\n",
       "  'time': []},\n",
       " {'frame': 67,\n",
       "  'rotate': <Quaternion object -0.608 + -0.744i + -0.256j + 0.106k>,\n",
       "  'translate': [],\n",
       "  'zoom': [],\n",
       "  'vis': [],\n",
       "  'time': []},\n",
       " {'frame': 83,\n",
       "  'rotate': <Quaternion object -0.186 + -0.963i + 0.182j + -0.0753k>,\n",
       "  'translate': [],\n",
       "  'zoom': [],\n",
       "  'vis': [],\n",
       "  'time': []},\n",
       " {'frame': 100,\n",
       "  'rotate': <Quaternion object 0.32 + -0.747i + 0.538j + -0.223k>,\n",
       "  'translate': (32224.5, 32224.5, 10600.0),\n",
       "  'zoom': 67841.05263157896,\n",
       "  'vis': [True],\n",
       "  'time': 0.0}]"
      ]
     },
     "execution_count": 16,
     "metadata": {},
     "output_type": "execute_result"
    }
   ],
   "source": [
    "movie.key_frames"
   ]
  },
  {
   "cell_type": "markdown",
   "metadata": {},
   "source": [
    "If you now go to the napari view, you can go through key frames as well as interpolated frames using the keys defined for the interactive view. Of course you can save the movie as before, as an mp4 or gif."
   ]
  },
  {
   "cell_type": "code",
   "execution_count": 8,
   "metadata": {
    "scrolled": true
   },
   "outputs": [
    {
     "data": {
      "image/png": "[encoded data removed]",
      "text/plain": [
       "<Figure size 170.317x216 with 1 Axes>"
      ]
     },
     "metadata": {
      "needs_background": "light"
     },
     "output_type": "display_data"
    }
   ],
   "source": [
    "movie.make_movie('movie_script.mp4')"
   ]
  },
  {
   "cell_type": "code",
   "execution_count": 5,
   "metadata": {},
   "outputs": [],
   "source": [
    "movie.make_gif('gif_script.gif')"
   ]
  }
 ],
 "metadata": {
  "kernelspec": {
   "display_name": "Python 3",
   "language": "python",
   "name": "python3"
  },
  "language_info": {
   "codemirror_mode": {
    "name": "ipython",
    "version": 3
   },
   "file_extension": ".py",
   "mimetype": "text/x-python",
   "name": "python",
   "nbconvert_exporter": "python",
   "pygments_lexer": "ipython3",
   "version": "3.7.9"
  },
  "toc": {
   "base_numbering": 1,
   "nav_menu": {},
   "number_sections": false,
   "sideBar": true,
   "skip_h1_title": false,
   "title_cell": "Table of Contents",
   "title_sidebar": "Contents",
   "toc_cell": false,
   "toc_position": {},
   "toc_section_display": true,
   "toc_window_display": true
  }
 },
 "nbformat": 4,
 "nbformat_minor": 2
}
